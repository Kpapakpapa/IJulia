{
 "cells": [
  {
   "cell_type": "markdown",
   "metadata": {},
   "source": [
    "## Introduction to Jupyter notebooks"
   ]
  },
  {
   "cell_type": "markdown",
   "metadata": {},
   "source": [
    "## Content\n",
    "A notebook consists of cells that can contain \n",
    "* codes (Python, Julia, R, ...)\n",
    "* any text in Markdown language (simple)\n",
    "* html, any other notebook\n",
    "\n",
    "The code is run and the output displayed, Markdown is rendered.\n",
    "\n",
    "## Markdown\n",
    "* normal text in paragraphs including *italic*, **bold**, ***italicbold***\n",
    "* Headings and sections of different hierarchy\n",
    "* enumerations, listings, checklists, quotations, listings\n",
    "* Latex inline (enclosed by dollars) $f(m)=\\frac{1}{2x}$\n",
    "* complex equations enclosed by double dollars: \n",
    "$$A x = b$$\n",
    "* web links, images, any HTML elements\n",
    "* citations and references "
   ]
  },
  {
   "cell_type": "markdown",
   "metadata": {},
   "source": [
    "Move through cells using arrow keys.\n",
    "\n",
    "Ctrl+Enter executes the current cell (and shows its output), \n",
    "Shift+Enter executes it and proceeds to the next one.\n",
    "\n",
    "Typing `function_name(` + TAB shows the help, twice TAB shows the extended help)"
   ]
  },
  {
   "cell_type": "code",
   "execution_count": 26,
   "metadata": {},
   "outputs": [
    {
     "data": {
      "text/plain": [
       "2×2 Array{Float64,2}:\n",
       " 1.0  2.3\n",
       " 3.0  4.0"
      ]
     },
     "metadata": {},
     "output_type": "display_data"
    },
    {
     "data": {
      "text/plain": [
       "2×2 Array{Float64,2}:\n",
       " -1.37931   0.793103\n",
       "  1.03448  -0.344828"
      ]
     },
     "execution_count": 26,
     "metadata": {},
     "output_type": "execute_result"
    }
   ],
   "source": [
    "# This is a code cell: We define a matrix\n",
    "A = [1 2.3;3 4]\n",
    "display(A)\n",
    "inv(A)"
   ]
  },
  {
   "cell_type": "code",
   "execution_count": 28,
   "metadata": {},
   "outputs": [
    {
     "data": {
      "text/plain": [
       "2-element Array{Float64,1}:\n",
       " 10.0\n",
       "  1.0"
      ]
     },
     "metadata": {},
     "output_type": "display_data"
    },
    {
     "data": {
      "text/plain": [
       "2-element Array{Float64,1}:\n",
       " 12.3\n",
       " 34.0"
      ]
     },
     "execution_count": 28,
     "metadata": {},
     "output_type": "execute_result"
    }
   ],
   "source": [
    "# This is a column vector\n",
    "x = [10;1.0]\n",
    "display(x)\n",
    "b = A*x"
   ]
  },
  {
   "cell_type": "code",
   "execution_count": 31,
   "metadata": {},
   "outputs": [
    {
     "data": {
      "image/png": "[encoded data removed]",
      "text/plain": [
       "Figure(PyObject <Figure size 640x480 with 1 Axes>)"
      ]
     },
     "metadata": {},
     "output_type": "display_data"
    },
    {
     "data": {
      "text/plain": [
       "PyObject Text(24.000000000000007, 0.5, 'b')"
      ]
     },
     "execution_count": 31,
     "metadata": {},
     "output_type": "execute_result"
    }
   ],
   "source": [
    "# We make use of PyPlot (Python implementation of Matplotlib)\n",
    "using PyPlot\n",
    "plot(x, b, \"rx-\")  # very well known functions from matlab\n",
    "xlabel(\"x\")\n",
    "ylabel(\"b\")"
   ]
  },
  {
   "cell_type": "markdown",
   "metadata": {},
   "source": [
    "Jupyter notebooks can be exported to HTML, LaTeX, py/jl source code. Basically one can write a paper completely in a Notebook. Likewise a book, a talk. We will use Notebooks mostly for playing but also for delivering programmed Code along with documentation to given tasks."
   ]
  },
  {
   "cell_type": "code",
   "execution_count": null,
   "metadata": {},
   "outputs": [],
   "source": [
    "col = [1;2]\n",
    "row = [3 4]"
   ]
  },
  {
   "cell_type": "code",
   "execution_count": 35,
   "metadata": {},
   "outputs": [
    {
     "data": {
      "text/plain": [
       "2-element Array{Int64,1}:\n",
       " 1\n",
       " 2"
      ]
     },
     "metadata": {},
     "output_type": "display_data"
    },
    {
     "data": {
      "text/plain": [
       "1×2 Array{Int64,2}:\n",
       " 3  4"
      ]
     },
     "metadata": {},
     "output_type": "display_data"
    }
   ],
   "source": [
    "display(col)\n",
    "display(row)"
   ]
  },
  {
   "cell_type": "code",
   "execution_count": 38,
   "metadata": {},
   "outputs": [
    {
     "data": {
      "text/plain": [
       "1×2 Array{Int64,2}:\n",
       " 4  6"
      ]
     },
     "execution_count": 38,
     "metadata": {},
     "output_type": "execute_result"
    }
   ],
   "source": [
    "row + transpose(col)"
   ]
  },
  {
   "cell_type": "code",
   "execution_count": 17,
   "metadata": {},
   "outputs": [
    {
     "data": {
      "text/plain": [
       "2×2 Array{Float64,2}:\n",
       " -2.0   1.0\n",
       "  1.5  -0.5"
      ]
     },
     "execution_count": 17,
     "metadata": {},
     "output_type": "execute_result"
    }
   ],
   "source": [
    "inv(A)"
   ]
  },
  {
   "cell_type": "code",
   "execution_count": null,
   "metadata": {},
   "outputs": [],
   "source": []
  }
 ],
 "metadata": {
  "kernelspec": {
   "display_name": "Julia 1.4.1",
   "language": "julia",
   "name": "julia-1.4"
  },
  "language_info": {
   "file_extension": ".jl",
   "mimetype": "application/julia",
   "name": "julia",
   "version": "1.4.1"
  }
 },
 "nbformat": 4,
 "nbformat_minor": 2
}

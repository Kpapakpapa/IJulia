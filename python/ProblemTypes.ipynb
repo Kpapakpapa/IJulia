{
 "cells": [
  {
   "cell_type": "markdown",
   "metadata": {},
   "source": [
    "# Aufgabe Problemtypen"
   ]
  },
  {
   "cell_type": "code",
   "execution_count": 2,
   "metadata": {},
   "outputs": [],
   "source": [
    "using LinearAlgebra\n",
    "using PyPlot\n",
    "using PrettyTables"
   ]
  },
  {
   "cell_type": "code",
   "execution_count": 3,
   "metadata": {},
   "outputs": [
    {
     "data": {
      "text/plain": [
       "1×4 Array{Float64,2}:\n",
       " 1.0  1.0  0.0  0.0"
      ]
     },
     "execution_count": 3,
     "metadata": {},
     "output_type": "execute_result"
    }
   ],
   "source": [
    "G1 = [1.0 1.0 0 0]"
   ]
  },
  {
   "cell_type": "code",
   "execution_count": 4,
   "metadata": {},
   "outputs": [
    {
     "data": {
      "text/plain": [
       "2×4 Array{Float64,2}:\n",
       " 1.0      1.0      0.0  0.0\n",
       " 1.03078  1.03078  0.0  0.0"
      ]
     },
     "execution_count": 4,
     "metadata": {},
     "output_type": "execute_result"
    }
   ],
   "source": [
    "l = sqrt(1+0.25^2)\n",
    "G2 = [G1;l l 0 0]"
   ]
  },
  {
   "cell_type": "code",
   "execution_count": 5,
   "metadata": {},
   "outputs": [
    {
     "data": {
      "text/plain": [
       "3×4 Array{Float64,2}:\n",
       " 1.0      1.0      0.0  0.0\n",
       " 1.03078  1.03078  0.0  0.0\n",
       " 1.11803  0.0      0.0  1.11803"
      ]
     },
     "execution_count": 5,
     "metadata": {},
     "output_type": "execute_result"
    }
   ],
   "source": [
    "l = sqrt(1^2+0.5^2)\n",
    "G3 = [G2;l 0 0 l]"
   ]
  },
  {
   "cell_type": "code",
   "execution_count": 6,
   "metadata": {},
   "outputs": [
    {
     "data": {
      "text/plain": [
       "4×4 Array{Float64,2}:\n",
       " 1.0      1.0       0.0  0.0\n",
       " 1.03078  1.03078   0.0  0.0\n",
       " 1.11803  0.0       0.0  1.11803\n",
       " 1.11803  0.559017  0.0  0.559017"
      ]
     },
     "execution_count": 6,
     "metadata": {},
     "output_type": "execute_result"
    }
   ],
   "source": [
    "G4 = [G3;l l/2 0 l/2]"
   ]
  },
  {
   "cell_type": "code",
   "execution_count": 7,
   "metadata": {},
   "outputs": [
    {
     "data": {
      "text/plain": [
       "4×4 Array{Float64,2}:\n",
       " 1.0      1.0      0.0      0.0\n",
       " 1.03078  1.03078  0.0      0.0\n",
       " 1.11803  0.0      0.0      1.11803\n",
       " 0.0      1.11803  1.11803  0.0"
      ]
     },
     "execution_count": 7,
     "metadata": {},
     "output_type": "execute_result"
    }
   ],
   "source": [
    "G5 = [G3;0 l l 0]"
   ]
  },
  {
   "cell_type": "code",
   "execution_count": 8,
   "metadata": {},
   "outputs": [
    {
     "data": {
      "text/plain": [
       "5×4 Array{Float64,2}:\n",
       " 1.0      1.0       0.0      0.0\n",
       " 1.03078  1.03078   0.0      0.0\n",
       " 1.11803  0.0       0.0      1.11803\n",
       " 0.0      1.11803   1.11803  0.0\n",
       " 1.11803  0.559017  0.0      0.559017"
      ]
     },
     "execution_count": 8,
     "metadata": {},
     "output_type": "execute_result"
    }
   ],
   "source": [
    "G6 = [G5;l l/2 0 l/2]"
   ]
  },
  {
   "cell_type": "code",
   "execution_count": 15,
   "metadata": {},
   "outputs": [
    {
     "data": {
      "text/plain": [
       "4-element Array{Float64,1}:\n",
       " 2.718523274002041\n",
       " 1.6450999918722284\n",
       " 0.9504089779938011\n",
       " 1.0072109040568042e-16"
      ]
     },
     "metadata": {},
     "output_type": "display_data"
    }
   ],
   "source": [
    "s=svd(G6)\n",
    "display(s.S)"
   ]
  },
  {
   "cell_type": "code",
   "execution_count": 9,
   "metadata": {},
   "outputs": [
    {
     "data": {
      "text/plain": [
       "6×4 Array{Float64,2}:\n",
       " 1.0      1.0       0.0      0.0\n",
       " 1.03078  1.03078   0.0      0.0\n",
       " 1.11803  0.0       0.0      1.11803\n",
       " 0.0      1.11803   1.11803  0.0\n",
       " 1.11803  0.559017  0.0      0.559017\n",
       " 0.0      0.0       1.0      1.0"
      ]
     },
     "execution_count": 9,
     "metadata": {},
     "output_type": "execute_result"
    }
   ],
   "source": [
    "G7 = [G6;0 0 1 1]"
   ]
  },
  {
   "cell_type": "code",
   "execution_count": 10,
   "metadata": {},
   "outputs": [
    {
     "data": {
      "text/plain": [
       "5×4 Array{Float64,2}:\n",
       " 1.0      1.0      0.0      0.0\n",
       " 1.03078  1.03078  0.0      0.0\n",
       " 1.03078  1.03078  0.0      0.0\n",
       " 0.0      0.0      1.0      1.0\n",
       " 0.0      0.0      1.03078  1.03078"
      ]
     },
     "execution_count": 10,
     "metadata": {},
     "output_type": "execute_result"
    }
   ],
   "source": [
    "l = sqrt(1+0.25^2)\n",
    "G8a = [G7;0 0 l l]\n",
    "G8 = [G2;l l 0 0;0 0 1 1;0 0 l l]"
   ]
  },
  {
   "cell_type": "code",
   "execution_count": 11,
   "metadata": {},
   "outputs": [
    {
     "data": {
      "text/plain": [
       "6×4 Array{Float64,2}:\n",
       " 1.0       1.0      0.0      0.0\n",
       " 1.03078   1.03078  0.0      0.0\n",
       " 1.03078   1.03078  0.0      0.0\n",
       " 0.0       0.0      1.0      1.0\n",
       " 0.0       0.0      1.03078  1.03078\n",
       " 0.416667  1.25     0.0      0.0"
      ]
     },
     "execution_count": 11,
     "metadata": {},
     "output_type": "execute_result"
    }
   ],
   "source": [
    "l = sqrt(1 + 0.75^2)\n",
    "G9 = [G8;l/3 l 0 0]"
   ]
  },
  {
   "cell_type": "code",
   "execution_count": 12,
   "metadata": {},
   "outputs": [
    {
     "data": {
      "text/plain": [
       "7×4 Array{Float64,2}:\n",
       " 1.0       1.0      0.0      0.0\n",
       " 1.03078   1.03078  0.0      0.0\n",
       " 1.03078   1.03078  0.0      0.0\n",
       " 0.0       0.0      1.0      1.0\n",
       " 0.0       0.0      1.03078  1.03078\n",
       " 0.416667  1.25     0.0      0.0\n",
       " 1.41421   0.0      0.0      1.41421"
      ]
     },
     "execution_count": 12,
     "metadata": {},
     "output_type": "execute_result"
    }
   ],
   "source": [
    "l = sqrt(1+1)\n",
    "G10 = [G9;l 0 0 l]"
   ]
  },
  {
   "cell_type": "code",
   "execution_count": 13,
   "metadata": {},
   "outputs": [
    {
     "data": {
      "image/png": "[encoded data removed]",
      "text/plain": [
       "Figure(PyObject <Figure size 640x480 with 10 Axes>)"
      ]
     },
     "metadata": {},
     "output_type": "display_data"
    }
   ],
   "source": [
    "allG = [G1, G2, G3, G4, G5, G6, G7, G8, G9, G10]\n",
    "fig, ax = subplots(5, 2)\n",
    "for (i, G) in enumerate(allG)\n",
    "    aa = ax[(i % 5)+1, div(i-1, 5)+1]\n",
    "    im = aa.imshow(G)\n",
    "    im.set_clim(0, 1.4)\n",
    "end"
   ]
  },
  {
   "cell_type": "code",
   "execution_count": 14,
   "metadata": {},
   "outputs": [
    {
     "data": {
      "text/plain": [
       "10-element Array{Int64,1}:\n",
       " 1\n",
       " 1\n",
       " 2\n",
       " 2\n",
       " 3\n",
       " 3\n",
       " 3\n",
       " 2\n",
       " 3\n",
       " 4"
      ]
     },
     "execution_count": 14,
     "metadata": {},
     "output_type": "execute_result"
    }
   ],
   "source": [
    "using LinearAlgebra\n",
    "# rang = 1:10\n",
    "# for G = allG\n",
    "#     rang[i] = rank(G)\n",
    "[rank(G) for G = allG]"
   ]
  },
  {
   "cell_type": "code",
   "execution_count": 45,
   "metadata": {
    "scrolled": true
   },
   "outputs": [
    {
     "data": {
      "text/plain": [
       "7×4 Array{Float64,2}:\n",
       " 1.0       1.0      0.0      0.0\n",
       " 1.03078   1.03078  0.0      0.0\n",
       " 1.03078   1.03078  0.0      0.0\n",
       " 0.0       0.0      1.0      1.0\n",
       " 0.0       0.0      1.03078  1.03078\n",
       " 0.416667  1.25     0.0      0.0\n",
       " 1.41421   0.0      0.0      1.41421"
      ]
     },
     "metadata": {},
     "output_type": "display_data"
    },
    {
     "data": {
      "text/plain": [
       "4-element Array{Float64,1}:\n",
       " 3.0265340908693585\n",
       " 2.2885229270182044\n",
       " 1.2637339301549702\n",
       " 0.34182140688348206"
      ]
     },
     "metadata": {},
     "output_type": "display_data"
    },
    {
     "data": {
      "text/plain": [
       "4×7 Array{Float64,2}:\n",
       "  0.48   0.494773   0.494773  -2.46346e-16  -7.98667e-17  -1.2   9.00622e-17\n",
       " -0.16  -0.164924  -0.164924   3.03727e-16   1.73035e-16   1.2  -6.65008e-17\n",
       "  0.48   0.494773   0.494773   0.484848      0.49977      -1.2  -0.707107\n",
       " -0.48  -0.494773  -0.494773   7.91968e-17  -7.64856e-17   1.2   0.707107"
      ]
     },
     "metadata": {},
     "output_type": "display_data"
    }
   ],
   "source": [
    "G = G10\n",
    "display(G)\n",
    "s= svd(G)\n",
    "display(s.S)\n",
    "display(pinv(G))\n",
    "# display(rank(G))"
   ]
  },
  {
   "cell_type": "code",
   "execution_count": 46,
   "metadata": {},
   "outputs": [
    {
     "data": {
      "text/plain": [
       "MNinverse (generic function with 1 method)"
      ]
     },
     "execution_count": 46,
     "metadata": {},
     "output_type": "execute_result"
    }
   ],
   "source": [
    "# define two functions for least-squares and min.-norm inverse\n",
    "LSinverse(G) = inv(transpose(G)*G) * transpose(G)\n",
    "MNinverse(G) = transpose(G) * inv(G*transpose(G))"
   ]
  },
  {
   "cell_type": "code",
   "execution_count": 47,
   "metadata": {},
   "outputs": [
    {
     "data": {
      "text/plain": [
       "1-element Array{Float64,1}:\n",
       " 1.4142135623730951"
      ]
     },
     "metadata": {},
     "output_type": "display_data"
    },
    {
     "name": "stdout",
     "output_type": "stream",
     "text": [
      "1 x 4 >> 1"
     ]
    }
   ],
   "source": [
    "G = G1\n",
    "s = svd(G)\n",
    "display(s.S)\n",
    "r = count(i->(i>1e-10), s.S)\n",
    "print(size(G, 1), \" x \", size(G, 2), \" >> \", r)"
   ]
  },
  {
   "cell_type": "code",
   "execution_count": 62,
   "metadata": {
    "scrolled": true
   },
   "outputs": [
    {
     "data": {
      "text/plain": [
       "4-element Array{Float64,1}:\n",
       " 10.0\n",
       " 20.0\n",
       " 30.0\n",
       " 40.0"
      ]
     },
     "metadata": {},
     "output_type": "display_data"
    }
   ],
   "source": [
    "G = G10\n",
    "mSyn = [10;20;30;40]\n",
    "d = G*mSyn\n",
    "GT = transpose(G)\n",
    "#mMN = GT * inv(G * GT) * d\n",
    "# display(mMN)\n",
    "mLS = inv(GT * G) * (GT * d)\n",
    "display(mLS)"
   ]
  },
  {
   "cell_type": "code",
   "execution_count": 125,
   "metadata": {},
   "outputs": [
    {
     "data": {
      "text/plain": [
       "Eigen{Float64,Float64,Array{Float64,2},Array{Float64,1}}\n",
       "values:\n",
       "4-element Array{Float64,1}:\n",
       " -4.440892104669037e-16\n",
       " -2.220446049250313e-16\n",
       "  1.5625000000000007\n",
       "  6.937499999999987\n",
       "vectors:\n",
       "4×4 Array{Float64,2}:\n",
       " -0.228946   0.717741    -0.431331  -0.496373\n",
       " -0.235992  -0.696311    -0.444606  -0.511649\n",
       " -0.422349   6.2728e-16   0.771589  -0.475681\n",
       "  0.844697   0.0          0.144673  -0.515322"
      ]
     },
     "execution_count": 125,
     "metadata": {},
     "output_type": "execute_result"
    }
   ],
   "source": [
    "G = G4\n",
    "GGT = G*transpose(G)\n",
    "eigen(GGT)"
   ]
  },
  {
   "cell_type": "code",
   "execution_count": 65,
   "metadata": {},
   "outputs": [
    {
     "data": {
      "text/plain": [
       "4-element Array{Float64,1}:\n",
       " 3.0265340908693585\n",
       " 2.2885229270182044\n",
       " 1.2637339301549702\n",
       " 0.34182140688348206"
      ]
     },
     "metadata": {},
     "output_type": "display_data"
    },
    {
     "data": {
      "text/plain": [
       "4-element Array{Float64,1}:\n",
       "  9.99999999999997\n",
       " 20.000000000000036\n",
       " 29.999999999999964\n",
       " 39.999999999999986"
      ]
     },
     "metadata": {},
     "output_type": "display_data"
    },
    {
     "data": {
      "text/plain": [
       "4-element Array{Float64,1}:\n",
       "  9.999999999999972\n",
       " 20.000000000000036\n",
       " 29.999999999999964\n",
       " 39.99999999999999"
      ]
     },
     "metadata": {},
     "output_type": "display_data"
    }
   ],
   "source": [
    "G = G10\n",
    "d = G * mSyn\n",
    "s = svd(G)\n",
    "display(s.S)\n",
    "r = count(i->(i>1e-5), s.S/s.S[1])\n",
    "Ginv = s.V[:, 1:r] * diagm(1.0./s.S[1:r]) * transpose(s.U[:, 1:r])\n",
    "display(Ginv * d)\n",
    "display(pinv(G)*d)"
   ]
  },
  {
   "cell_type": "code",
   "execution_count": 40,
   "metadata": {},
   "outputs": [
    {
     "name": "stdout",
     "output_type": "stream",
     "text": [
      "┌\u001b[0m─────────\u001b[0m┬\u001b[0m───\u001b[0m┬\u001b[0m──────\u001b[0m┐\u001b[0m\n",
      "│\u001b[0m\u001b[1m Aufgabe \u001b[0m│\u001b[0m\u001b[1m N \u001b[0m│\u001b[0m\u001b[1m Rang \u001b[0m│\u001b[0m\n",
      "├\u001b[0m─────────\u001b[0m┼\u001b[0m───\u001b[0m┼\u001b[0m──────\u001b[0m┤\u001b[0m\n",
      "│\u001b[0m       1 \u001b[0m│\u001b[0m 1 \u001b[0m│\u001b[0m    1 \u001b[0m│\u001b[0m\n",
      "│\u001b[0m       2 \u001b[0m│\u001b[0m 2 \u001b[0m│\u001b[0m    1 \u001b[0m│\u001b[0m\n",
      "│\u001b[0m       3 \u001b[0m│\u001b[0m 3 \u001b[0m│\u001b[0m    2 \u001b[0m│\u001b[0m\n",
      "│\u001b[0m       4 \u001b[0m│\u001b[0m 4 \u001b[0m│\u001b[0m    2 \u001b[0m│\u001b[0m\n",
      "│\u001b[0m       5 \u001b[0m│\u001b[0m 4 \u001b[0m│\u001b[0m    3 \u001b[0m│\u001b[0m\n",
      "│\u001b[0m       6 \u001b[0m│\u001b[0m 5 \u001b[0m│\u001b[0m    3 \u001b[0m│\u001b[0m\n",
      "│\u001b[0m       7 \u001b[0m│\u001b[0m 6 \u001b[0m│\u001b[0m    3 \u001b[0m│\u001b[0m\n",
      "│\u001b[0m       8 \u001b[0m│\u001b[0m 5 \u001b[0m│\u001b[0m    2 \u001b[0m│\u001b[0m\n",
      "│\u001b[0m       9 \u001b[0m│\u001b[0m 6 \u001b[0m│\u001b[0m    3 \u001b[0m│\u001b[0m\n",
      "│\u001b[0m      10 \u001b[0m│\u001b[0m 7 \u001b[0m│\u001b[0m    4 \u001b[0m│\u001b[0m\n",
      "└\u001b[0m─────────\u001b[0m┴\u001b[0m───\u001b[0m┴\u001b[0m──────\u001b[0m┘\u001b[0m\n"
     ]
    }
   ],
   "source": [
    "using PrettyTables\n",
    "header = [\"Aufgabe\", \"N\", \"Rang\"]\n",
    "table = [0 0 0]\n",
    "for (i, G) in enumerate(allG)\n",
    "    s = svd(G)\n",
    "    r = count(i->(i>1e-5), s.S/s.S[1])\n",
    "    table = [table;i size(G, 1) r] \n",
    "end\n",
    "pretty_table(table[2:end, :], header)"
   ]
  },
  {
   "cell_type": "code",
   "execution_count": 77,
   "metadata": {},
   "outputs": [
    {
     "data": {
      "text/plain": [
       "4-element Array{Float64,1}:\n",
       "  9.999999999999972\n",
       " 20.000000000000036\n",
       " 29.999999999999964\n",
       " 39.99999999999999"
      ]
     },
     "metadata": {},
     "output_type": "display_data"
    },
    {
     "data": {
      "text/plain": [
       "4-element Array{Float64,1}:\n",
       "  9.999999999999948\n",
       " 20.000000000000036\n",
       " 29.999999999999986\n",
       " 40.00000000000002"
      ]
     },
     "metadata": {},
     "output_type": "display_data"
    },
    {
     "ename": "SingularException",
     "evalue": "SingularException(3)",
     "output_type": "error",
     "traceback": [
      "SingularException(3)",
      "",
      "Stacktrace:",
      " [1] checknonsingular at D:\\buildbot\\worker\\package_win64\\build\\usr\\share\\julia\\stdlib\\v1.4\\LinearAlgebra\\src\\factorization.jl:19 [inlined]",
      " [2] checknonsingular at D:\\buildbot\\worker\\package_win64\\build\\usr\\share\\julia\\stdlib\\v1.4\\LinearAlgebra\\src\\factorization.jl:21 [inlined]",
      " [3] lu!(::Array{Float64,2}, ::Val{true}; check::Bool) at D:\\buildbot\\worker\\package_win64\\build\\usr\\share\\julia\\stdlib\\v1.4\\LinearAlgebra\\src\\lu.jl:85",
      " [4] #lu#142 at D:\\buildbot\\worker\\package_win64\\build\\usr\\share\\julia\\stdlib\\v1.4\\LinearAlgebra\\src\\lu.jl:273 [inlined]",
      " [5] lu at D:\\buildbot\\worker\\package_win64\\build\\usr\\share\\julia\\stdlib\\v1.4\\LinearAlgebra\\src\\lu.jl:272 [inlined] (repeats 2 times)",
      " [6] inv(::Array{Float64,2}) at D:\\buildbot\\worker\\package_win64\\build\\usr\\share\\julia\\stdlib\\v1.4\\LinearAlgebra\\src\\dense.jl:770",
      " [7] MNinverse(::Array{Float64,2}) at .\\In[46]:3",
      " [8] top-level scope at In[77]:5"
     ]
    }
   ],
   "source": [
    "G = G10\n",
    "d = G * mSyn\n",
    "display(pinv(G)*d)\n",
    "display(LSinverse(G)*d)\n",
    "display(MNinverse(G)*d)"
   ]
  },
  {
   "cell_type": "code",
   "execution_count": 17,
   "metadata": {},
   "outputs": [
    {
     "data": {
      "text/plain": [
       "8×4 Array{Float64,2}:\n",
       " 1.0       1.0      0.0      0.0\n",
       " 1.03078   1.03078  0.0      0.0\n",
       " 1.11803   0.0      0.0      1.11803\n",
       " 0.0       1.11803  1.11803  0.0\n",
       " 0.0       1.11803  1.11803  0.0\n",
       " 0.0       0.0      1.0      1.0\n",
       " 0.0       0.0      1.03078  1.03078\n",
       " 0.416667  1.25     0.0      0.0"
      ]
     },
     "metadata": {},
     "output_type": "display_data"
    },
    {
     "ename": "UndefVarError",
     "evalue": "UndefVarError: mSyn not defined",
     "output_type": "error",
     "traceback": [
      "UndefVarError: mSyn not defined",
      "",
      "Stacktrace:",
      " [1] top-level scope at In[17]:3"
     ]
    }
   ],
   "source": [
    "G = G9\n",
    "display(G)\n",
    "d = G * mSyn\n",
    "display(LSinverse(G)*d)\n",
    "display(MNinverse(G)*d)"
   ]
  },
  {
   "cell_type": "code",
   "execution_count": 81,
   "metadata": {},
   "outputs": [
    {
     "name": "stdout",
     "output_type": "stream",
     "text": [
      "1[14.85, 14.85, 0.0, 0.0]\n",
      "2[14.64, 14.64, 0.0, 0.0]\n",
      "3[27.02, 3.34, 0.0, 23.68]\n",
      "4[26.48, 2.76, 0.0, 23.72]\n",
      "5[15.17, 14.33, 34.51, 35.35]\n",
      "6[14.64, 14.72, 35.44, 35.37]\n",
      "7[14.41, 15.44, 35.39, 34.36]\n",
      "8[15.1, 15.1, 35.01, 35.01]\n",
      "9[8.99, 21.32, 35.88, 35.88]\n",
      "10[8.41, 21.38, 29.4, 41.19]\n",
      "[29.031828751450234, 29.5367441292544, 32.60958476188118, 70.62630928247515, 72.73239048039036, 30.230586280176762, 70.1382782520574]"
     ]
    }
   ],
   "source": [
    "mSyn = [10;20;30;40]\n",
    "error = 1\n",
    "for (i, G) in enumerate(allG)\n",
    "    d = G * mSyn + randn(size(G, 1)) .* error\n",
    "    m = pinv(G) * d\n",
    "    println(i, round.(m.*100)/100)\n",
    "end\n",
    "print(d)"
   ]
  },
  {
   "cell_type": "code",
   "execution_count": 90,
   "metadata": {},
   "outputs": [
    {
     "data": {
      "text/plain": [
       "4×4 Array{Float64,2}:\n",
       " 1.0          -4.44089e-16  -3.28671e-16  -2.01303e-16\n",
       " 2.61225e-16   1.0           4.82087e-16   3.88041e-16\n",
       " 8.53284e-17  -5.55112e-17   1.0          -4.69783e-16\n",
       " 1.09778e-16   7.21645e-16   3.57309e-19   1.0"
      ]
     },
     "metadata": {},
     "output_type": "display_data"
    },
    {
     "data": {
      "text/plain": [
       "7×7 Array{Float64,2}:\n",
       " 0.32          0.329848     0.329848     …  -4.44089e-16   2.35614e-17\n",
       " 0.329848      0.34         0.34            -3.63472e-16   2.42865e-17\n",
       " 0.329848      0.34         0.34            -3.63472e-16   2.42865e-17\n",
       " 1.66533e-16   1.66533e-16  1.66533e-16      0.0          -3.33067e-16\n",
       " 1.98172e-16   1.46664e-16  1.30447e-16      1.01119e-16  -3.21118e-16\n",
       " 6.03684e-16  -3.747e-16    2.22045e-16  …   1.0          -4.56001e-17\n",
       " 3.75991e-17  -2.5087e-16   1.11446e-16      2.54371e-16   1.0"
      ]
     },
     "metadata": {},
     "output_type": "display_data"
    }
   ],
   "source": [
    "G = G10\n",
    "RM = pinv(G) * G\n",
    "RD = G * pinv(G)\n",
    "display(RM)\n",
    "display(RD)"
   ]
  }
 ],
 "metadata": {
  "kernelspec": {
   "display_name": "Julia 1.4.1",
   "language": "julia",
   "name": "julia-1.4"
  },
  "language_info": {
   "file_extension": ".jl",
   "mimetype": "application/julia",
   "name": "julia",
   "version": "1.4.1"
  },
  "varInspector": {
   "cols": {
    "lenName": 16,
    "lenType": 16,
    "lenVar": 40
   },
   "kernels_config": {
    "python": {
     "delete_cmd_postfix": "",
     "delete_cmd_prefix": "del ",
     "library": "var_list.py",
     "varRefreshCmd": "print(var_dic_list())"
    },
    "r": {
     "delete_cmd_postfix": ") ",
     "delete_cmd_prefix": "rm(",
     "library": "var_list.r",
     "varRefreshCmd": "cat(var_dic_list()) "
    }
   },
   "types_to_exclude": [
    "module",
    "function",
    "builtin_function_or_method",
    "instance",
    "_Feature"
   ],
   "window_display": false
  }
 },
 "nbformat": 4,
 "nbformat_minor": 2
}

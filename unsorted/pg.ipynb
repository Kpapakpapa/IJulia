{
 "cells": [
  {
   "cell_type": "code",
   "execution_count": 2,
   "metadata": {},
   "outputs": [],
   "source": [
    "using PyCall"
   ]
  },
  {
   "cell_type": "code",
   "execution_count": 3,
   "metadata": {},
   "outputs": [
    {
     "data": {
      "text/plain": [
       "PyObject <module 'pygimli' from 'C:\\\\Users\\\\halbm\\\\AppData\\\\Roaming\\\\Python\\\\Python37\\\\site-packages\\\\pygimli-1.1.0+2.g6890f54c-py3.7.egg\\\\pygimli\\\\__init__.py'>"
      ]
     },
     "execution_count": 3,
     "metadata": {},
     "output_type": "execute_result"
    }
   ],
   "source": [
    "pg = pyimport(\"pygimli\")"
   ]
  },
  {
   "cell_type": "code",
   "execution_count": 4,
   "metadata": {},
   "outputs": [
    {
     "data": {
      "text/plain": [
       "PyObject <module 'numpy' from 'C:\\\\Users\\\\halbm\\\\.julia\\\\conda\\\\3\\\\lib\\\\site-packages\\\\numpy\\\\__init__.py'>"
      ]
     },
     "execution_count": 4,
     "metadata": {},
     "output_type": "execute_result"
    }
   ],
   "source": [
    "np = pyimport(\"numpy\")"
   ]
  },
  {
   "cell_type": "markdown",
   "metadata": {},
   "source": [
    "## The mesh class\n",
    "There are various types of elements in 2D and 3D, e.g. triangles and rectangles. We create a regular grid from two vectors defining the x and y positions of the mesh nodes."
   ]
  },
  {
   "cell_type": "code",
   "execution_count": 5,
   "metadata": {
    "scrolled": true
   },
   "outputs": [
    {
     "name": "stdout",
     "output_type": "stream",
     "text": [
      "[0.0, 1.0, 2.0, 3.0, 4.0, 5.0, 6.0, 7.0, 8.0, 9.0, 10.0][0.0, 1.0, 2.0, 3.0, 4.0, 5.0, 6.0, 7.0, 8.0, 9.0, 10.0]PyObject <pygimli.core._pygimli_.Mesh object at 0x00000000411DF750>"
     ]
    }
   ],
   "source": [
    "x = np.arange(11.0)\n",
    "y = np.arange(11.0)\n",
    "print(x)\n",
    "print(y)\n",
    "grid = pg.createGrid(x, y)\n",
    "print(grid)"
   ]
  },
  {
   "cell_type": "code",
   "execution_count": null,
   "metadata": {},
   "outputs": [],
   "source": []
  },
  {
   "cell_type": "code",
   "execution_count": 6,
   "metadata": {},
   "outputs": [
    {
     "name": "stdout",
     "output_type": "stream",
     "text": [
      "Data: Sensors: 20 data: 100, nonzero entries: ['g', 's']"
     ]
    },
    {
     "data": {
      "text/plain": [
       "1"
      ]
     },
     "execution_count": 6,
     "metadata": {},
     "output_type": "execute_result"
    }
   ],
   "source": [
    "x1 = 0\n",
    "x2 = 10\n",
    "y = collect(1:10)\n",
    "data = pg.DataContainer()\n",
    "data.registerSensorIndex(\"s\")\n",
    "data.registerSensorIndex(\"g\")\n",
    "[data.createSensor([x1, yi]) for yi in y]\n",
    "[data.createSensor([x2, yi]) for yi in y]\n",
    "one = np.ones_like(y)\n",
    "shot = []\n",
    "geop = []\n",
    "for yi in y\n",
    "    shot = vcat(shot, one * yi)\n",
    "    geop = vcat(geop, y.+length(y))\n",
    "end\n",
    "# print(shot)\n",
    "# print(geop)\n",
    "data.resize(length(shot))\n",
    "data.set(\"s\", shot.-1)\n",
    "data.set(\"g\", geop.-1)\n",
    "print(data.__str__())\n",
    "data.save(\"data.shm\")"
   ]
  },
  {
   "cell_type": "code",
   "execution_count": 12,
   "metadata": {},
   "outputs": [
    {
     "data": {
      "text/plain": [
       "1"
      ]
     },
     "execution_count": 12,
     "metadata": {},
     "output_type": "execute_result"
    }
   ],
   "source": [
    "fop = pg.core.TravelTimeDijkstraModelling(grid, data)\n",
    "slowness = np.ones(data.size())\n",
    "t = fop(slowness).array();\n",
    "data.set(\"t\", t)\n",
    "data.markValid(data(\"t\") > 0)\n",
    "data.save(\"data.sgt\", \"s g t\")"
   ]
  },
  {
   "cell_type": "code",
   "execution_count": 20,
   "metadata": {},
   "outputs": [
    {
     "data": {
      "image/png": "[encoded data removed]",
      "text/plain": [
       "Figure(PyObject <Figure size 480x480 with 1 Axes>)"
      ]
     },
     "metadata": {},
     "output_type": "display_data"
    },
    {
     "name": "stderr",
     "output_type": "stream",
     "text": [
      "WARNING: using PyPlot.grid in module Main conflicts with an existing identifier.\n"
     ]
    },
    {
     "data": {
      "text/plain": [
       "PyObject <matplotlib.image.AxesImage object at 0x000000002D560208>"
      ]
     },
     "execution_count": 20,
     "metadata": {},
     "output_type": "execute_result"
    }
   ],
   "source": [
    "# Let us display \n",
    "using PyPlot\n",
    "A = zeros(length(y), length(y))\n",
    "for i = 1:length(shot)\n",
    "    A[shot[i], geop[i]-length(y)] = t[i]\n",
    "end\n",
    "matshow(A)"
   ]
  },
  {
   "cell_type": "code",
   "execution_count": 32,
   "metadata": {},
   "outputs": [],
   "source": [
    "fop.createJacobian(slowness)\n",
    "J = fop.jacobian()\n",
    "J.save(\"jacobian.ijv\")"
   ]
  },
  {
   "cell_type": "code",
   "execution_count": 34,
   "metadata": {},
   "outputs": [
    {
     "data": {
      "image/png": "[encoded data removed]",
      "text/plain": [
       "Figure(PyObject <Figure size 640x480 with 1 Axes>)"
      ]
     },
     "metadata": {},
     "output_type": "display_data"
    },
    {
     "data": {
      "text/plain": [
       "PyObject <matplotlib.image.AxesImage object at 0x0000000060714608>"
      ]
     },
     "execution_count": 34,
     "metadata": {},
     "output_type": "execute_result"
    }
   ],
   "source": [
    "A = zeros(J.nRows(), J.nCols())\n",
    "for i = 1:J.nCols()\n",
    "    A[:, i] = np.array(J.col(i-1))\n",
    "end\n",
    "spy(A)"
   ]
  },
  {
   "cell_type": "code",
   "execution_count": 46,
   "metadata": {},
   "outputs": [
    {
     "ename": "PyCall.PyError",
     "evalue": "PyError ($(Expr(:escape, :(ccall(#= C:\\Users\\halbm\\.julia\\packages\\PyCall\\zqDXB\\src\\pyfncall.jl:43 =# @pysym(:PyObject_Call), PyPtr, (PyPtr, PyPtr, PyPtr), o, pyargsptr, kw))))) <class 'TypeError'>\nTypeError(\"simulate() missing 2 required positional arguments: 'mesh' and 'scheme'\")\n",
     "output_type": "error",
     "traceback": [
      "PyError ($(Expr(:escape, :(ccall(#= C:\\Users\\halbm\\.julia\\packages\\PyCall\\zqDXB\\src\\pyfncall.jl:43 =# @pysym(:PyObject_Call), PyPtr, (PyPtr, PyPtr, PyPtr), o, pyargsptr, kw))))) <class 'TypeError'>\nTypeError(\"simulate() missing 2 required positional arguments: 'mesh' and 'scheme'\")\n",
      "",
      "Stacktrace:",
      " [1] pyerr_check at C:\\Users\\halbm\\.julia\\packages\\PyCall\\zqDXB\\src\\exception.jl:60 [inlined]",
      " [2] pyerr_check at C:\\Users\\halbm\\.julia\\packages\\PyCall\\zqDXB\\src\\exception.jl:64 [inlined]",
      " [3] _handle_error(::String) at C:\\Users\\halbm\\.julia\\packages\\PyCall\\zqDXB\\src\\exception.jl:81",
      " [4] macro expansion at C:\\Users\\halbm\\.julia\\packages\\PyCall\\zqDXB\\src\\exception.jl:95 [inlined]",
      " [5] #110 at C:\\Users\\halbm\\.julia\\packages\\PyCall\\zqDXB\\src\\pyfncall.jl:43 [inlined]",
      " [6] disable_sigint at .\\c.jl:446 [inlined]",
      " [7] __pycall! at C:\\Users\\halbm\\.julia\\packages\\PyCall\\zqDXB\\src\\pyfncall.jl:42 [inlined]",
      " [8] _pycall!(::PyObject, ::PyObject, ::Tuple{}, ::Int64, ::Ptr{Nothing}) at C:\\Users\\halbm\\.julia\\packages\\PyCall\\zqDXB\\src\\pyfncall.jl:29",
      " [9] _pycall! at C:\\Users\\halbm\\.julia\\packages\\PyCall\\zqDXB\\src\\pyfncall.jl:11 [inlined]",
      " [10] #_#117 at C:\\Users\\halbm\\.julia\\packages\\PyCall\\zqDXB\\src\\pyfncall.jl:86 [inlined]",
      " [11] (::PyObject)() at C:\\Users\\halbm\\.julia\\packages\\PyCall\\zqDXB\\src\\pyfncall.jl:86",
      " [12] top-level scope at In[46]:2"
     ]
    }
   ],
   "source": [
    "srt = pg.physics.TravelTimeManager()\n",
    "t = srt.simulate()"
   ]
  },
  {
   "cell_type": "code",
   "execution_count": 30,
   "metadata": {},
   "outputs": [
    {
     "data": {
      "text/plain": [
       "PyObject <pygimli.core._pygimli_.RVector object at 0x000000005966E260>"
      ]
     },
     "execution_count": 30,
     "metadata": {},
     "output_type": "execute_result"
    }
   ],
   "source": [
    "t"
   ]
  },
  {
   "cell_type": "code",
   "execution_count": null,
   "metadata": {},
   "outputs": [],
   "source": []
  },
  {
   "cell_type": "code",
   "execution_count": 27,
   "metadata": {},
   "outputs": [
    {
     "name": "stdout",
     "output_type": "stream",
     "text": [
      "Mesh: Nodes: 121 Cells: 100 Boundaries: 220 secNodes: 1100"
     ]
    }
   ],
   "source": [
    "# Create a mesh with secondary nodes\n",
    "mesh = grid.createMeshWithSecondaryNodes(5)\n",
    "print(mesh.__str__())"
   ]
  }
 ],
 "metadata": {
  "@webio": {
   "lastCommId": null,
   "lastKernelId": null
  },
  "kernelspec": {
   "display_name": "Julia 1.4.1",
   "language": "julia",
   "name": "julia-1.4"
  },
  "language_info": {
   "file_extension": ".jl",
   "mimetype": "application/julia",
   "name": "julia",
   "version": "1.4.1"
  },
  "varInspector": {
   "cols": {
    "lenName": 16,
    "lenType": 16,
    "lenVar": 40
   },
   "kernels_config": {
    "python": {
     "delete_cmd_postfix": "",
     "delete_cmd_prefix": "del ",
     "library": "var_list.py",
     "varRefreshCmd": "print(var_dic_list())"
    },
    "r": {
     "delete_cmd_postfix": ") ",
     "delete_cmd_prefix": "rm(",
     "library": "var_list.r",
     "varRefreshCmd": "cat(var_dic_list()) "
    }
   },
   "types_to_exclude": [
    "module",
    "function",
    "builtin_function_or_method",
    "instance",
    "_Feature"
   ],
   "window_display": false
  }
 },
 "nbformat": 4,
 "nbformat_minor": 2
}

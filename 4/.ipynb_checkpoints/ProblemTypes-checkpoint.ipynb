{
 "cells": [
  {
   "cell_type": "markdown",
   "metadata": {},
   "source": [
    "# Aufgabe Problemtypen"
   ]
  },
  {
   "cell_type": "code",
   "execution_count": 9,
   "metadata": {},
   "outputs": [
    {
     "data": {
      "text/plain": [
       "1×4 Array{Int64,2}:\n",
       " 1  1  0  0"
      ]
     },
     "execution_count": 9,
     "metadata": {},
     "output_type": "execute_result"
    }
   ],
   "source": [
    "G1 = [1 1 0 0]"
   ]
  },
  {
   "cell_type": "code",
   "execution_count": 11,
   "metadata": {},
   "outputs": [
    {
     "data": {
      "text/plain": [
       "2×4 Array{Float64,2}:\n",
       " 1.0      1.0      0.0  0.0\n",
       " 1.03078  1.03078  0.0  0.0"
      ]
     },
     "execution_count": 11,
     "metadata": {},
     "output_type": "execute_result"
    }
   ],
   "source": [
    "l = sqrt(1+0.25^2)\n",
    "G2 = [G1;l l 0 0]"
   ]
  },
  {
   "cell_type": "code",
   "execution_count": 16,
   "metadata": {},
   "outputs": [
    {
     "data": {
      "text/plain": [
       "3×4 Array{Float64,2}:\n",
       " 1.0      1.0      0.0  0.0\n",
       " 1.03078  1.03078  0.0  0.0\n",
       " 1.11803  0.0      0.0  1.11803"
      ]
     },
     "execution_count": 16,
     "metadata": {},
     "output_type": "execute_result"
    }
   ],
   "source": [
    "l = sqrt(1^2+0.5^2)\n",
    "G3 = [G2;l 0 0 l]"
   ]
  },
  {
   "cell_type": "code",
   "execution_count": 17,
   "metadata": {},
   "outputs": [
    {
     "data": {
      "text/plain": [
       "4×4 Array{Float64,2}:\n",
       " 1.0      1.0       0.0  0.0\n",
       " 1.03078  1.03078   0.0  0.0\n",
       " 1.11803  0.0       0.0  1.11803\n",
       " 1.11803  0.559017  0.0  0.559017"
      ]
     },
     "execution_count": 17,
     "metadata": {},
     "output_type": "execute_result"
    }
   ],
   "source": [
    "G4 = [G3;l l/2 0 l/2]"
   ]
  },
  {
   "cell_type": "code",
   "execution_count": 18,
   "metadata": {},
   "outputs": [
    {
     "data": {
      "text/plain": [
       "4×4 Array{Float64,2}:\n",
       " 1.0      1.0      0.0      0.0\n",
       " 1.03078  1.03078  0.0      0.0\n",
       " 1.11803  0.0      0.0      1.11803\n",
       " 0.0      1.11803  1.11803  0.0"
      ]
     },
     "execution_count": 18,
     "metadata": {},
     "output_type": "execute_result"
    }
   ],
   "source": [
    "G5 = [G3;0 l l 0]"
   ]
  },
  {
   "cell_type": "code",
   "execution_count": 19,
   "metadata": {},
   "outputs": [
    {
     "data": {
      "text/plain": [
       "5×4 Array{Float64,2}:\n",
       " 1.0      1.0       0.0      0.0\n",
       " 1.03078  1.03078   0.0      0.0\n",
       " 1.11803  0.0       0.0      1.11803\n",
       " 1.11803  0.559017  0.0      0.559017\n",
       " 0.0      1.11803   1.11803  0.0"
      ]
     },
     "execution_count": 19,
     "metadata": {},
     "output_type": "execute_result"
    }
   ],
   "source": [
    "G6 = [G4;0 l l 0]"
   ]
  },
  {
   "cell_type": "code",
   "execution_count": 20,
   "metadata": {},
   "outputs": [
    {
     "data": {
      "text/plain": [
       "6×4 Array{Float64,2}:\n",
       " 1.0      1.0       0.0      0.0\n",
       " 1.03078  1.03078   0.0      0.0\n",
       " 1.11803  0.0       0.0      1.11803\n",
       " 1.11803  0.559017  0.0      0.559017\n",
       " 0.0      1.11803   1.11803  0.0\n",
       " 0.0      0.0       1.0      1.0"
      ]
     },
     "execution_count": 20,
     "metadata": {},
     "output_type": "execute_result"
    }
   ],
   "source": [
    "G7 = [G6;0 0 1 1]"
   ]
  },
  {
   "cell_type": "code",
   "execution_count": 21,
   "metadata": {},
   "outputs": [
    {
     "data": {
      "text/plain": [
       "7×4 Array{Float64,2}:\n",
       " 1.0      1.0       0.0      0.0\n",
       " 1.03078  1.03078   0.0      0.0\n",
       " 1.11803  0.0       0.0      1.11803\n",
       " 1.11803  0.559017  0.0      0.559017\n",
       " 0.0      1.11803   1.11803  0.0\n",
       " 0.0      0.0       1.0      1.0\n",
       " 0.0      0.0       1.03078  1.03078"
      ]
     },
     "execution_count": 21,
     "metadata": {},
     "output_type": "execute_result"
    }
   ],
   "source": [
    "l = sqrt(1+0.25^2)\n",
    "G8 = [G7;0 0 l l]"
   ]
  },
  {
   "cell_type": "code",
   "execution_count": 23,
   "metadata": {},
   "outputs": [
    {
     "data": {
      "text/plain": [
       "8×4 Array{Float64,2}:\n",
       " 1.0       1.0       0.0      0.0\n",
       " 1.03078   1.03078   0.0      0.0\n",
       " 1.11803   0.0       0.0      1.11803\n",
       " 1.11803   0.559017  0.0      0.559017\n",
       " 0.0       1.11803   1.11803  0.0\n",
       " 0.0       0.0       1.0      1.0\n",
       " 0.0       0.0       1.03078  1.03078\n",
       " 0.416667  1.25      0.0      0.0"
      ]
     },
     "execution_count": 23,
     "metadata": {},
     "output_type": "execute_result"
    }
   ],
   "source": [
    "l = sqrt(1 + 0.75^2)\n",
    "G9 = [G8;l/3 l 0 0]"
   ]
  },
  {
   "cell_type": "code",
   "execution_count": 24,
   "metadata": {},
   "outputs": [
    {
     "data": {
      "text/plain": [
       "9×4 Array{Float64,2}:\n",
       " 1.0       1.0       0.0      0.0\n",
       " 1.03078   1.03078   0.0      0.0\n",
       " 1.11803   0.0       0.0      1.11803\n",
       " 1.11803   0.559017  0.0      0.559017\n",
       " 0.0       1.11803   1.11803  0.0\n",
       " 0.0       0.0       1.0      1.0\n",
       " 0.0       0.0       1.03078  1.03078\n",
       " 0.416667  1.25      0.0      0.0\n",
       " 1.41421   0.0       0.0      1.41421"
      ]
     },
     "execution_count": 24,
     "metadata": {},
     "output_type": "execute_result"
    }
   ],
   "source": [
    "l = sqrt(1+1)\n",
    "G10 = [G9;l 0 0 l]"
   ]
  },
  {
   "cell_type": "code",
   "execution_count": 141,
   "metadata": {},
   "outputs": [
    {
     "data": {
      "text/plain": [
       "MNinverse (generic function with 1 method)"
      ]
     },
     "execution_count": 141,
     "metadata": {},
     "output_type": "execute_result"
    }
   ],
   "source": [
    "using LinearAlgebra\n",
    "LSinverse(G) = inv(transpose(G)*G) * transpose(G)\n",
    "MNinverse(G) = transpose(G) * inv(G*transpose(G))"
   ]
  },
  {
   "cell_type": "code",
   "execution_count": 61,
   "metadata": {},
   "outputs": [
    {
     "data": {
      "text/plain": [
       "4-element Array{Float64,1}:\n",
       " 3.4096025407432062\n",
       " 2.270740240722137\n",
       " 1.9870930908778999\n",
       " 0.3618306684335708"
      ]
     },
     "metadata": {},
     "output_type": "display_data"
    },
    {
     "name": "stdout",
     "output_type": "stream",
     "text": [
      "9 x 4 >> 4"
     ]
    }
   ],
   "source": [
    "G = G10\n",
    "s = svd(G)\n",
    "display(s.S)\n",
    "rank = count(i->(i>1e-10), s.S)\n",
    "print(size(G, 1), \" x \", size(G, 2), \" >> \", rank)"
   ]
  },
  {
   "cell_type": "code",
   "execution_count": 95,
   "metadata": {
    "scrolled": true
   },
   "outputs": [
    {
     "data": {
      "text/plain": [
       "4-element Array{Float64,1}:\n",
       " 64.0\n",
       "  0.0\n",
       " 32.0\n",
       " 32.0"
      ]
     },
     "metadata": {},
     "output_type": "display_data"
    }
   ],
   "source": [
    "G = G5\n",
    "m = 11:14\n",
    "d = G*m\n",
    "GT = transpose(G)\n",
    "#mMN = GT * inv(G * GT) * d\n",
    "# display(mMN)\n",
    "mLS = inv(GT * G) * (GT * d)\n",
    "display(mLS)"
   ]
  },
  {
   "cell_type": "code",
   "execution_count": 133,
   "metadata": {},
   "outputs": [
    {
     "data": {
      "text/plain": [
       "Eigen{Float64,Float64,Array{Float64,2},Array{Float64,1}}\n",
       "values:\n",
       "3-element Array{Float64,1}:\n",
       " 4.440892098500623e-16\n",
       " 1.5129774938890042\n",
       " 5.112022506110996\n",
       "vectors:\n",
       "3×3 Array{Float64,2}:\n",
       "  0.717741     -0.364647  -0.593195\n",
       " -0.696311     -0.37587   -0.611452\n",
       " -1.49813e-16   0.851912  -0.523685"
      ]
     },
     "execution_count": 133,
     "metadata": {},
     "output_type": "execute_result"
    }
   ],
   "source": [
    "G = G3\n",
    "GGT = G*transpose(G)\n",
    "eigen(GGT)"
   ]
  },
  {
   "cell_type": "code",
   "execution_count": 140,
   "metadata": {},
   "outputs": [
    {
     "data": {
      "text/plain": [
       "4-element Array{Float64,1}:\n",
       " 3.4096025407432062\n",
       " 2.270740240722137\n",
       " 1.9870930908778999\n",
       " 0.3618306684335708"
      ]
     },
     "metadata": {},
     "output_type": "display_data"
    },
    {
     "data": {
      "text/plain": [
       "4-element Array{Float64,1}:\n",
       " 10.99999999999998\n",
       " 12.000000000000016\n",
       " 12.999999999999973\n",
       " 14.000000000000025"
      ]
     },
     "metadata": {},
     "output_type": "display_data"
    }
   ],
   "source": [
    "G = G10\n",
    "d = G * m\n",
    "s = svd(G)\n",
    "display(s.S)\n",
    "r = count(i->(i>1e-5), s.S/s.S[1])\n",
    "Ginv = s.V[:, 1:r] * diagm(1.0./s.S[1:r]) * transpose(s.U[:, 1:r])\n",
    "display(Ginv * d)"
   ]
  },
  {
   "cell_type": "code",
   "execution_count": 121,
   "metadata": {},
   "outputs": [
    {
     "data": {
      "text/plain": [
       "(3, 4)"
      ]
     },
     "execution_count": 121,
     "metadata": {},
     "output_type": "execute_result"
    }
   ],
   "source": [
    "size(s.V[:, 1:r])\n",
    "size(transpose(s.U[:, 1:r]))\n",
    "# s.S[1:r]"
   ]
  },
  {
   "cell_type": "code",
   "execution_count": 132,
   "metadata": {},
   "outputs": [
    {
     "data": {
      "text/plain": [
       "4×3 Array{Float64,2}:\n",
       " 2.77556e-17  0.0  0.0\n",
       " 5.55112e-17  0.0  0.0\n",
       " 0.0          0.0  0.0\n",
       " 0.0          0.0  0.0"
      ]
     },
     "execution_count": 132,
     "metadata": {},
     "output_type": "execute_result"
    }
   ],
   "source": [
    "pinv(G) - \n",
    "Ginv"
   ]
  },
  {
   "cell_type": "code",
   "execution_count": 144,
   "metadata": {},
   "outputs": [
    {
     "ename": "SingularException",
     "evalue": "SingularException(3)",
     "output_type": "error",
     "traceback": [
      "SingularException(3)",
      "",
      "Stacktrace:",
      " [1] checknonsingular at D:\\buildbot\\worker\\package_win64\\build\\usr\\share\\julia\\stdlib\\v1.4\\LinearAlgebra\\src\\factorization.jl:19 [inlined]",
      " [2] checknonsingular at D:\\buildbot\\worker\\package_win64\\build\\usr\\share\\julia\\stdlib\\v1.4\\LinearAlgebra\\src\\factorization.jl:21 [inlined]",
      " [3] lu!(::Array{Float64,2}, ::Val{true}; check::Bool) at D:\\buildbot\\worker\\package_win64\\build\\usr\\share\\julia\\stdlib\\v1.4\\LinearAlgebra\\src\\lu.jl:85",
      " [4] #lu#142 at D:\\buildbot\\worker\\package_win64\\build\\usr\\share\\julia\\stdlib\\v1.4\\LinearAlgebra\\src\\lu.jl:273 [inlined]",
      " [5] lu at D:\\buildbot\\worker\\package_win64\\build\\usr\\share\\julia\\stdlib\\v1.4\\LinearAlgebra\\src\\lu.jl:272 [inlined] (repeats 2 times)",
      " [6] inv(::Array{Float64,2}) at D:\\buildbot\\worker\\package_win64\\build\\usr\\share\\julia\\stdlib\\v1.4\\LinearAlgebra\\src\\dense.jl:770",
      " [7] LSinverse(::Array{Float64,2}) at .\\In[141]:2",
      " [8] top-level scope at In[144]:3"
     ]
    }
   ],
   "source": [
    "G = G4\n",
    "d = G * m\n",
    "# display(LSinverse(G)*d)\n",
    "display(MNinverse(G)*d)"
   ]
  },
  {
   "cell_type": "code",
   "execution_count": null,
   "metadata": {},
   "outputs": [],
   "source": []
  }
 ],
 "metadata": {
  "kernelspec": {
   "display_name": "Julia 1.4.1",
   "language": "julia",
   "name": "julia-1.4"
  },
  "language_info": {
   "file_extension": ".jl",
   "mimetype": "application/julia",
   "name": "julia",
   "version": "1.4.1"
  },
  "varInspector": {
   "cols": {
    "lenName": 16,
    "lenType": 16,
    "lenVar": 40
   },
   "kernels_config": {
    "python": {
     "delete_cmd_postfix": "",
     "delete_cmd_prefix": "del ",
     "library": "var_list.py",
     "varRefreshCmd": "print(var_dic_list())"
    },
    "r": {
     "delete_cmd_postfix": ") ",
     "delete_cmd_prefix": "rm(",
     "library": "var_list.r",
     "varRefreshCmd": "cat(var_dic_list()) "
    }
   },
   "types_to_exclude": [
    "module",
    "function",
    "builtin_function_or_method",
    "instance",
    "_Feature"
   ],
   "window_display": false
  }
 },
 "nbformat": 4,
 "nbformat_minor": 2
}

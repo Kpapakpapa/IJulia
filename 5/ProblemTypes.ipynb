{
 "cells": [
  {
   "cell_type": "markdown",
   "metadata": {},
   "source": [
    "# Aufgabe Problemtypen"
   ]
  },
  {
   "cell_type": "code",
   "execution_count": 1,
   "metadata": {},
   "outputs": [],
   "source": [
    "using LinearAlgebra\n",
    "using PyPlot\n",
    "using PrettyTables"
   ]
  },
  {
   "cell_type": "code",
   "execution_count": 2,
   "metadata": {},
   "outputs": [
    {
     "data": {
      "text/plain": [
       "1×4 Array{Float64,2}:\n",
       " 1.0  1.0  0.0  0.0"
      ]
     },
     "execution_count": 2,
     "metadata": {},
     "output_type": "execute_result"
    }
   ],
   "source": [
    "G1 = [1.0 1.0 0 0]"
   ]
  },
  {
   "cell_type": "code",
   "execution_count": 3,
   "metadata": {},
   "outputs": [
    {
     "data": {
      "text/plain": [
       "2×4 Array{Float64,2}:\n",
       " 1.0      1.0      0.0  0.0\n",
       " 1.03078  1.03078  0.0  0.0"
      ]
     },
     "execution_count": 3,
     "metadata": {},
     "output_type": "execute_result"
    }
   ],
   "source": [
    "l = sqrt(1+0.25^2)\n",
    "G2 = [G1;l l 0 0]"
   ]
  },
  {
   "cell_type": "code",
   "execution_count": 4,
   "metadata": {},
   "outputs": [
    {
     "data": {
      "text/plain": [
       "3×4 Array{Float64,2}:\n",
       " 1.0      1.0      0.0  0.0\n",
       " 1.03078  1.03078  0.0  0.0\n",
       " 1.11803  0.0      0.0  1.11803"
      ]
     },
     "execution_count": 4,
     "metadata": {},
     "output_type": "execute_result"
    }
   ],
   "source": [
    "l = sqrt(1^2+0.5^2)\n",
    "G3 = [G2;l 0 0 l]"
   ]
  },
  {
   "cell_type": "code",
   "execution_count": 5,
   "metadata": {},
   "outputs": [
    {
     "data": {
      "text/plain": [
       "4×4 Array{Float64,2}:\n",
       " 1.0      1.0       0.0  0.0\n",
       " 1.03078  1.03078   0.0  0.0\n",
       " 1.11803  0.0       0.0  1.11803\n",
       " 1.11803  0.559017  0.0  0.559017"
      ]
     },
     "execution_count": 5,
     "metadata": {},
     "output_type": "execute_result"
    }
   ],
   "source": [
    "G4 = [G3;l l/2 0 l/2]"
   ]
  },
  {
   "cell_type": "code",
   "execution_count": 6,
   "metadata": {},
   "outputs": [
    {
     "data": {
      "text/plain": [
       "4×4 Array{Float64,2}:\n",
       " 1.0      1.0      0.0      0.0\n",
       " 1.03078  1.03078  0.0      0.0\n",
       " 1.11803  0.0      0.0      1.11803\n",
       " 0.0      1.11803  1.11803  0.0"
      ]
     },
     "execution_count": 6,
     "metadata": {},
     "output_type": "execute_result"
    }
   ],
   "source": [
    "G5 = [G3;0 l l 0]"
   ]
  },
  {
   "cell_type": "code",
   "execution_count": 7,
   "metadata": {},
   "outputs": [
    {
     "data": {
      "text/plain": [
       "5×4 Array{Float64,2}:\n",
       " 1.0      1.0      0.0      0.0\n",
       " 1.03078  1.03078  0.0      0.0\n",
       " 1.11803  0.0      0.0      1.11803\n",
       " 0.0      1.11803  1.11803  0.0\n",
       " 0.0      1.11803  1.11803  0.0"
      ]
     },
     "execution_count": 7,
     "metadata": {},
     "output_type": "execute_result"
    }
   ],
   "source": [
    "G6 = [G5;0 l l 0]"
   ]
  },
  {
   "cell_type": "code",
   "execution_count": 8,
   "metadata": {},
   "outputs": [
    {
     "data": {
      "text/plain": [
       "6×4 Array{Float64,2}:\n",
       " 1.0      1.0      0.0      0.0\n",
       " 1.03078  1.03078  0.0      0.0\n",
       " 1.11803  0.0      0.0      1.11803\n",
       " 0.0      1.11803  1.11803  0.0\n",
       " 0.0      1.11803  1.11803  0.0\n",
       " 0.0      0.0      1.0      1.0"
      ]
     },
     "execution_count": 8,
     "metadata": {},
     "output_type": "execute_result"
    }
   ],
   "source": [
    "G7 = [G6;0 0 1 1]"
   ]
  },
  {
   "cell_type": "code",
   "execution_count": 9,
   "metadata": {},
   "outputs": [
    {
     "data": {
      "text/plain": [
       "7×4 Array{Float64,2}:\n",
       " 1.0      1.0      0.0      0.0\n",
       " 1.03078  1.03078  0.0      0.0\n",
       " 1.11803  0.0      0.0      1.11803\n",
       " 0.0      1.11803  1.11803  0.0\n",
       " 0.0      1.11803  1.11803  0.0\n",
       " 0.0      0.0      1.0      1.0\n",
       " 0.0      0.0      1.03078  1.03078"
      ]
     },
     "execution_count": 9,
     "metadata": {},
     "output_type": "execute_result"
    }
   ],
   "source": [
    "l = sqrt(1+0.25^2)\n",
    "G8 = [G7;0 0 l l]"
   ]
  },
  {
   "cell_type": "code",
   "execution_count": 10,
   "metadata": {},
   "outputs": [
    {
     "data": {
      "text/plain": [
       "8×4 Array{Float64,2}:\n",
       " 1.0       1.0      0.0      0.0\n",
       " 1.03078   1.03078  0.0      0.0\n",
       " 1.11803   0.0      0.0      1.11803\n",
       " 0.0       1.11803  1.11803  0.0\n",
       " 0.0       1.11803  1.11803  0.0\n",
       " 0.0       0.0      1.0      1.0\n",
       " 0.0       0.0      1.03078  1.03078\n",
       " 0.416667  1.25     0.0      0.0"
      ]
     },
     "execution_count": 10,
     "metadata": {},
     "output_type": "execute_result"
    }
   ],
   "source": [
    "l = sqrt(1 + 0.75^2)\n",
    "G9 = [G8;l/3 l 0 0]"
   ]
  },
  {
   "cell_type": "code",
   "execution_count": 11,
   "metadata": {},
   "outputs": [
    {
     "data": {
      "text/plain": [
       "9×4 Array{Float64,2}:\n",
       " 1.0       1.0      0.0      0.0\n",
       " 1.03078   1.03078  0.0      0.0\n",
       " 1.11803   0.0      0.0      1.11803\n",
       " 0.0       1.11803  1.11803  0.0\n",
       " 0.0       1.11803  1.11803  0.0\n",
       " 0.0       0.0      1.0      1.0\n",
       " 0.0       0.0      1.03078  1.03078\n",
       " 0.416667  1.25     0.0      0.0\n",
       " 1.41421   0.0      0.0      1.41421"
      ]
     },
     "execution_count": 11,
     "metadata": {},
     "output_type": "execute_result"
    }
   ],
   "source": [
    "l = sqrt(1+1)\n",
    "G10 = [G9;l 0 0 l]"
   ]
  },
  {
   "cell_type": "code",
   "execution_count": 12,
   "metadata": {},
   "outputs": [
    {
     "data": {
      "image/png": "[encoded data removed]",
      "text/plain": [
       "Figure(PyObject <Figure size 640x480 with 10 Axes>)"
      ]
     },
     "metadata": {},
     "output_type": "display_data"
    }
   ],
   "source": [
    "fig, ax = subplots(5, 2)\n",
    "allG = [G1, G2, G3, G4, G5, G6, G7, G8, G9, G10]\n",
    "for (i, G) in enumerate(allG)\n",
    "    aa = ax[(i % 5)+1, div(i-1, 5)+1]\n",
    "    im = aa.imshow(G)\n",
    "    im.set_clim(0, 1.4)\n",
    "end"
   ]
  },
  {
   "cell_type": "code",
   "execution_count": 13,
   "metadata": {},
   "outputs": [
    {
     "data": {
      "text/plain": [
       "10-element Array{Int64,1}:\n",
       " 1\n",
       " 1\n",
       " 2\n",
       " 2\n",
       " 3\n",
       " 3\n",
       " 3\n",
       " 3\n",
       " 4\n",
       " 4"
      ]
     },
     "execution_count": 13,
     "metadata": {},
     "output_type": "execute_result"
    }
   ],
   "source": [
    "using LinearAlgebra\n",
    "[rank(G) for G = allG]"
   ]
  },
  {
   "cell_type": "code",
   "execution_count": 121,
   "metadata": {
    "scrolled": true
   },
   "outputs": [
    {
     "data": {
      "text/plain": [
       "8×4 Array{Float64,2}:\n",
       " 1.0       1.0      0.0      0.0\n",
       " 1.03078   1.03078  0.0      0.0\n",
       " 1.11803   0.0      0.0      1.11803\n",
       " 0.0       1.11803  1.11803  0.0\n",
       " 0.0       1.41421  1.41421  0.0\n",
       " 0.0       0.0      1.0      1.0\n",
       " 0.0       0.0      1.03078  1.03078\n",
       " 0.416667  1.25     0.0      0.0"
      ]
     },
     "metadata": {},
     "output_type": "display_data"
    },
    {
     "data": {
      "text/plain": [
       "4×8 Array{Float64,2}:\n",
       "  0.557532   0.574691   0.31313    …  -0.16974    -0.174964   -1.2\n",
       " -0.185844  -0.191564  -0.104377       0.0565802   0.0583215   1.2\n",
       "  0.257657   0.265587  -0.0281014      0.0152331   0.0157019  -1.2\n",
       " -0.370818  -0.38223    0.236855       0.356455    0.367425    1.2"
      ]
     },
     "metadata": {},
     "output_type": "display_data"
    }
   ],
   "source": [
    "G = G9\n",
    "display(G)\n",
    "s= svd(G)\n",
    "display(pinv(G))\n",
    "# display(rank(G))"
   ]
  },
  {
   "cell_type": "code",
   "execution_count": 122,
   "metadata": {},
   "outputs": [
    {
     "data": {
      "text/plain": [
       "MNinverse (generic function with 1 method)"
      ]
     },
     "execution_count": 122,
     "metadata": {},
     "output_type": "execute_result"
    }
   ],
   "source": [
    "# define two functions for least-squares and min.-norm inverse\n",
    "LSinverse(G) = inv(transpose(G)*G) * transpose(G)\n",
    "MNinverse(G) = transpose(G) * inv(G*transpose(G))"
   ]
  },
  {
   "cell_type": "code",
   "execution_count": 123,
   "metadata": {},
   "outputs": [
    {
     "data": {
      "text/plain": [
       "1-element Array{Float64,1}:\n",
       " 1.4142135623730951"
      ]
     },
     "metadata": {},
     "output_type": "display_data"
    },
    {
     "name": "stdout",
     "output_type": "stream",
     "text": [
      "1 x 4 >> 1"
     ]
    }
   ],
   "source": [
    "G = G1\n",
    "s = svd(G)\n",
    "display(s.S)\n",
    "r = count(i->(i>1e-10), s.S)\n",
    "print(size(G, 1), \" x \", size(G, 2), \" >> \", r)"
   ]
  },
  {
   "cell_type": "code",
   "execution_count": 124,
   "metadata": {
    "scrolled": true
   },
   "outputs": [
    {
     "data": {
      "text/plain": [
       "4-element Array{Float64,1}:\n",
       " 64.0\n",
       "  0.0\n",
       " 32.0\n",
       " 32.0"
      ]
     },
     "metadata": {},
     "output_type": "display_data"
    }
   ],
   "source": [
    "G = G5\n",
    "m = 11:14\n",
    "d = G*m\n",
    "GT = transpose(G)\n",
    "#mMN = GT * inv(G * GT) * d\n",
    "# display(mMN)\n",
    "mLS = inv(GT * G) * (GT * d)\n",
    "display(mLS)"
   ]
  },
  {
   "cell_type": "code",
   "execution_count": 125,
   "metadata": {},
   "outputs": [
    {
     "data": {
      "text/plain": [
       "Eigen{Float64,Float64,Array{Float64,2},Array{Float64,1}}\n",
       "values:\n",
       "4-element Array{Float64,1}:\n",
       " -4.440892104669037e-16\n",
       " -2.220446049250313e-16\n",
       "  1.5625000000000007\n",
       "  6.937499999999987\n",
       "vectors:\n",
       "4×4 Array{Float64,2}:\n",
       " -0.228946   0.717741    -0.431331  -0.496373\n",
       " -0.235992  -0.696311    -0.444606  -0.511649\n",
       " -0.422349   6.2728e-16   0.771589  -0.475681\n",
       "  0.844697   0.0          0.144673  -0.515322"
      ]
     },
     "execution_count": 125,
     "metadata": {},
     "output_type": "execute_result"
    }
   ],
   "source": [
    "G = G4\n",
    "GGT = G*transpose(G)\n",
    "eigen(GGT)"
   ]
  },
  {
   "cell_type": "code",
   "execution_count": 126,
   "metadata": {},
   "outputs": [
    {
     "data": {
      "text/plain": [
       "4-element Array{Float64,1}:\n",
       " 3.3819384818036164\n",
       " 2.5878732454005746\n",
       " 2.171303276961198\n",
       " 0.37007750756351976"
      ]
     },
     "metadata": {},
     "output_type": "display_data"
    },
    {
     "ename": "MethodError",
     "evalue": "MethodError: no method matching display(::Array{Float64,1}, ::Array{Float64,1})\nClosest candidates are:\n  display(!Matched::TextDisplay, ::Any) at multimedia.jl:241\n  display(!Matched::IJulia.InlineDisplay, ::Any) at C:\\Users\\halbm\\.julia\\packages\\IJulia\\DrVMH\\src\\inline.jl:94\n  display(!Matched::AbstractString, ::Any) at multimedia.jl:215\n  ...",
     "output_type": "error",
     "traceback": [
      "MethodError: no method matching display(::Array{Float64,1}, ::Array{Float64,1})\nClosest candidates are:\n  display(!Matched::TextDisplay, ::Any) at multimedia.jl:241\n  display(!Matched::IJulia.InlineDisplay, ::Any) at C:\\Users\\halbm\\.julia\\packages\\IJulia\\DrVMH\\src\\inline.jl:94\n  display(!Matched::AbstractString, ::Any) at multimedia.jl:215\n  ...",
      "",
      "Stacktrace:",
      " [1] top-level scope at In[126]:7"
     ]
    }
   ],
   "source": [
    "G = G10\n",
    "d = G * mSyn\n",
    "s = svd(G)\n",
    "display(s.S)\n",
    "r = count(i->(i>1e-5), s.S/s.S[1])\n",
    "Ginv = s.V[:, 1:r] * diagm(1.0./s.S[1:r]) * transpose(s.U[:, 1:r])\n",
    "display(Ginv * d, pinv(G)*d)"
   ]
  },
  {
   "cell_type": "code",
   "execution_count": 127,
   "metadata": {},
   "outputs": [
    {
     "name": "stdout",
     "output_type": "stream",
     "text": [
      "┌\u001b[0m─────────\u001b[0m┬\u001b[0m───\u001b[0m┬\u001b[0m──────\u001b[0m┐\u001b[0m\n",
      "│\u001b[0m\u001b[1m Aufgabe \u001b[0m│\u001b[0m\u001b[1m M \u001b[0m│\u001b[0m\u001b[1m Rang \u001b[0m│\u001b[0m\n",
      "├\u001b[0m─────────\u001b[0m┼\u001b[0m───\u001b[0m┼\u001b[0m──────\u001b[0m┤\u001b[0m\n",
      "│\u001b[0m       1 \u001b[0m│\u001b[0m 1 \u001b[0m│\u001b[0m    1 \u001b[0m│\u001b[0m\n",
      "│\u001b[0m       2 \u001b[0m│\u001b[0m 2 \u001b[0m│\u001b[0m    1 \u001b[0m│\u001b[0m\n",
      "│\u001b[0m       3 \u001b[0m│\u001b[0m 3 \u001b[0m│\u001b[0m    2 \u001b[0m│\u001b[0m\n",
      "│\u001b[0m       4 \u001b[0m│\u001b[0m 4 \u001b[0m│\u001b[0m    2 \u001b[0m│\u001b[0m\n",
      "│\u001b[0m       5 \u001b[0m│\u001b[0m 4 \u001b[0m│\u001b[0m    3 \u001b[0m│\u001b[0m\n",
      "│\u001b[0m       6 \u001b[0m│\u001b[0m 5 \u001b[0m│\u001b[0m    3 \u001b[0m│\u001b[0m\n",
      "│\u001b[0m       7 \u001b[0m│\u001b[0m 6 \u001b[0m│\u001b[0m    3 \u001b[0m│\u001b[0m\n",
      "│\u001b[0m       8 \u001b[0m│\u001b[0m 7 \u001b[0m│\u001b[0m    3 \u001b[0m│\u001b[0m\n",
      "│\u001b[0m       9 \u001b[0m│\u001b[0m 8 \u001b[0m│\u001b[0m    4 \u001b[0m│\u001b[0m\n",
      "│\u001b[0m      10 \u001b[0m│\u001b[0m 9 \u001b[0m│\u001b[0m    4 \u001b[0m│\u001b[0m\n",
      "└\u001b[0m─────────\u001b[0m┴\u001b[0m───\u001b[0m┴\u001b[0m──────\u001b[0m┘\u001b[0m\n"
     ]
    }
   ],
   "source": [
    "using PrettyTables\n",
    "header = [\"Aufgabe\", \"M\", \"Rang\"]\n",
    "table = [0 0 0]\n",
    "for (i, G) in enumerate(allG)\n",
    "    s = svd(G)\n",
    "    r = count(i->(i>1e-5), s.S/s.S[1])\n",
    "    table = [table;i size(G, 1) r] \n",
    "end\n",
    "pretty_table(table[2:end, :], header)"
   ]
  },
  {
   "cell_type": "code",
   "execution_count": 98,
   "metadata": {},
   "outputs": [
    {
     "data": {
      "text/plain": [
       "4-element Array{Float64,1}:\n",
       " 26.666666666666668\n",
       "  3.333333333333332\n",
       "  0.0\n",
       " 23.333333333333332"
      ]
     },
     "metadata": {},
     "output_type": "display_data"
    },
    {
     "ename": "SingularException",
     "evalue": "SingularException(3)",
     "output_type": "error",
     "traceback": [
      "SingularException(3)",
      "",
      "Stacktrace:",
      " [1] checknonsingular at D:\\buildbot\\worker\\package_win64\\build\\usr\\share\\julia\\stdlib\\v1.4\\LinearAlgebra\\src\\factorization.jl:19 [inlined]",
      " [2] checknonsingular at D:\\buildbot\\worker\\package_win64\\build\\usr\\share\\julia\\stdlib\\v1.4\\LinearAlgebra\\src\\factorization.jl:21 [inlined]",
      " [3] lu!(::Array{Float64,2}, ::Val{true}; check::Bool) at D:\\buildbot\\worker\\package_win64\\build\\usr\\share\\julia\\stdlib\\v1.4\\LinearAlgebra\\src\\lu.jl:85",
      " [4] #lu#142 at D:\\buildbot\\worker\\package_win64\\build\\usr\\share\\julia\\stdlib\\v1.4\\LinearAlgebra\\src\\lu.jl:273 [inlined]",
      " [5] lu at D:\\buildbot\\worker\\package_win64\\build\\usr\\share\\julia\\stdlib\\v1.4\\LinearAlgebra\\src\\lu.jl:272 [inlined] (repeats 2 times)",
      " [6] inv(::Array{Float64,2}) at D:\\buildbot\\worker\\package_win64\\build\\usr\\share\\julia\\stdlib\\v1.4\\LinearAlgebra\\src\\dense.jl:770",
      " [7] LSinverse(::Array{Float64,2}) at .\\In[14]:3",
      " [8] top-level scope at In[98]:5"
     ]
    }
   ],
   "source": [
    "G = G4\n",
    "# display(G)\n",
    "d = G * mSyn\n",
    "display(pinv(G)*d)\n",
    "display(LSinverse(G)*d)\n",
    "display(MNinverse(G)*d)"
   ]
  },
  {
   "cell_type": "code",
   "execution_count": 89,
   "metadata": {},
   "outputs": [
    {
     "data": {
      "text/plain": [
       "8×4 Array{Float64,2}:\n",
       " 1.0       1.0       0.0      0.0\n",
       " 1.03078   1.03078   0.0      0.0\n",
       " 1.11803   0.0       0.0      1.11803\n",
       " 1.11803   0.559017  0.0      0.559017\n",
       " 0.0       1.11803   1.11803  0.0\n",
       " 0.0       0.0       1.0      1.0\n",
       " 0.0       0.0       1.03078  1.03078\n",
       " 0.416667  1.25      0.0      0.0"
      ]
     },
     "metadata": {},
     "output_type": "display_data"
    },
    {
     "ename": "UndefVarError",
     "evalue": "UndefVarError: m not defined",
     "output_type": "error",
     "traceback": [
      "UndefVarError: m not defined",
      "",
      "Stacktrace:",
      " [1] top-level scope at In[89]:3"
     ]
    }
   ],
   "source": [
    "G = G9\n",
    "display(G)\n",
    "d = G * m\n",
    "display(LSinverse(G)*d)\n",
    "display(MNinverse(G)*d)"
   ]
  },
  {
   "cell_type": "code",
   "execution_count": 87,
   "metadata": {},
   "outputs": [
    {
     "name": "stdout",
     "output_type": "stream",
     "text": [
      "1[15.47, 15.47, 0.0, 0.0]\n",
      "2[15.43, 15.43, 0.0, 0.0]\n",
      "3[27.0, 3.26, 0.0, 23.74]\n",
      "4[25.83, 2.66, 0.0, 23.17]\n",
      "5[15.27, 14.61, 34.66, 35.32]\n",
      "6[14.88, 14.71, 34.16, 34.34]\n",
      "7[15.69, 15.53, 34.8, 34.96]\n",
      "8[15.33, 14.29, 34.58, 35.61]\n",
      "9[13.34, 17.6, 33.66, 36.35]\n",
      "10[8.33, 20.41, 29.3, 41.28]\n"
     ]
    }
   ],
   "source": [
    "mSyn = [10;20;30;40]\n",
    "error = 1.0\n",
    "for (i, G) in enumerate(allG)\n",
    "    d = G * mSyn + randn(size(G, 1)) .* error\n",
    "    m = pinv(G) * d\n",
    "    println(i, round.(m.*100)/100)\n",
    "end"
   ]
  }
 ],
 "metadata": {
  "kernelspec": {
   "display_name": "Julia 1.4.1",
   "language": "julia",
   "name": "julia-1.4"
  },
  "language_info": {
   "file_extension": ".jl",
   "mimetype": "application/julia",
   "name": "julia",
   "version": "1.4.1"
  },
  "varInspector": {
   "cols": {
    "lenName": 16,
    "lenType": 16,
    "lenVar": 40
   },
   "kernels_config": {
    "python": {
     "delete_cmd_postfix": "",
     "delete_cmd_prefix": "del ",
     "library": "var_list.py",
     "varRefreshCmd": "print(var_dic_list())"
    },
    "r": {
     "delete_cmd_postfix": ") ",
     "delete_cmd_prefix": "rm(",
     "library": "var_list.r",
     "varRefreshCmd": "cat(var_dic_list()) "
    }
   },
   "types_to_exclude": [
    "module",
    "function",
    "builtin_function_or_method",
    "instance",
    "_Feature"
   ],
   "window_display": false
  }
 },
 "nbformat": 4,
 "nbformat_minor": 2
}

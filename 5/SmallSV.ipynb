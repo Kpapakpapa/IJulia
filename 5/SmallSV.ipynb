{
 "cells": [
  {
   "cell_type": "markdown",
   "metadata": {},
   "source": [
    "## Small singular values\n",
    "\n",
    "When using the generalized (svd) inverse by\n",
    "$${\\bf m} = {\\bf G}^\\dagger {\\bf d} = {\\bf V}{\\bf S}^{-1}{\\bf U}^T {\\bf d} = \\sum_i \\frac{U_i^T {\\bf d}}{s_i} V_i $$\n",
    "\n",
    "Small (compared to the others) singular values result in a large factor and thus huge impact of single data. Noise can be amplified."
   ]
  },
  {
   "cell_type": "code",
   "execution_count": 1,
   "metadata": {},
   "outputs": [],
   "source": [
    "using LinearAlgebra"
   ]
  },
  {
   "cell_type": "markdown",
   "metadata": {},
   "source": [
    "We take one of the ray path matrices."
   ]
  },
  {
   "cell_type": "code",
   "execution_count": 4,
   "metadata": {},
   "outputs": [
    {
     "data": {
      "text/plain": [
       "4×4 Array{Float64,2}:\n",
       " 1.0      1.0      0.0      0.0\n",
       " 1.03078  1.03078  0.0      0.0\n",
       " 1.11803  0.0      0.0      1.11803\n",
       " 0.0      1.11803  1.11803  0.0"
      ]
     },
     "metadata": {},
     "output_type": "display_data"
    },
    {
     "data": {
      "text/plain": [
       "4-element Array{Float64,1}:\n",
       " 2.3925347798301373\n",
       " 1.5811388300841893\n",
       " 0.9490928970881395\n",
       " 8.746388511155516e-17"
      ]
     },
     "metadata": {},
     "output_type": "display_data"
    }
   ],
   "source": [
    "l1 = sqrt(1+0.25^2)\n",
    "l2 = sqrt(1^2+0.5^2)\n",
    "G = [1.0 1.0 0 0;l1 l1 0 0;l2 0 0 l2;0 l2 l2 0]\n",
    "display(G)\n",
    "s = svd(G)\n",
    "display(s.S)"
   ]
  },
  {
   "cell_type": "markdown",
   "metadata": {},
   "source": [
    "The problem is the similarity of the first two rays. We just make the ray a little longer.  "
   ]
  },
  {
   "cell_type": "code",
   "execution_count": 5,
   "metadata": {},
   "outputs": [
    {
     "data": {
      "text/plain": [
       "4-element Array{Float64,1}:\n",
       " 2.4208043376897916\n",
       " 1.5813162422242428\n",
       " 0.9545074617276181\n",
       " 0.023681347224980425"
      ]
     },
     "metadata": {},
     "output_type": "display_data"
    }
   ],
   "source": [
    "G[2, 1] = 1.1\n",
    "s = svd(G)\n",
    "display(s.S)"
   ]
  },
  {
   "cell_type": "markdown",
   "metadata": {},
   "source": [
    "As a result, the last singular values becomes small."
   ]
  },
  {
   "cell_type": "code",
   "execution_count": 8,
   "metadata": {},
   "outputs": [
    {
     "data": {
      "text/plain": [
       "4-element Array{Float64,1}:\n",
       " 0.8361640303311333\n",
       " 2.1604743519422414\n",
       " 2.8554706110483465\n",
       " 4.154137005752617"
      ]
     },
     "metadata": {},
     "output_type": "display_data"
    },
    {
     "data": {
      "text/plain": [
       "4-element Array{Float64,1}:\n",
       " 0.9175207907216816\n",
       " 2.0889285168365603\n",
       " 2.9130103626158643\n",
       " 4.100370812835315"
      ]
     },
     "metadata": {},
     "output_type": "display_data"
    },
    {
     "data": {
      "text/plain": [
       "4-element Array{Float64,1}:\n",
       " 0.8218985210420655\n",
       " 2.188454778170474\n",
       " 2.795826618006963\n",
       " 4.191461170655664"
      ]
     },
     "metadata": {},
     "output_type": "display_data"
    },
    {
     "data": {
      "text/plain": [
       "4-element Array{Float64,1}:\n",
       " 1.2594819992513209\n",
       " 1.7352841415486608\n",
       " 3.270370920610574\n",
       " 3.7287222611371504"
      ]
     },
     "metadata": {},
     "output_type": "display_data"
    },
    {
     "data": {
      "text/plain": [
       "4-element Array{Float64,1}:\n",
       " 1.041512249202242\n",
       " 1.948901200740977\n",
       " 3.0324931086077953\n",
       " 3.956798649553683"
      ]
     },
     "metadata": {},
     "output_type": "display_data"
    }
   ],
   "source": [
    "mSyn = [1;2;3;4]\n",
    "for i = 1:5\n",
    "    d = G * mSyn + randn(size(G, 1)) * 0.01\n",
    "    mEst = pinv(G) * d\n",
    "    display(mEst)\n",
    "end"
   ]
  },
  {
   "cell_type": "code",
   "execution_count": 26,
   "metadata": {},
   "outputs": [
    {
     "data": {
      "text/plain": [
       "4-element Array{Float64,1}:\n",
       " 1.195383643897515\n",
       " 1.1371077585295848\n",
       " 3.276543248749518\n",
       " 3.4160490078471972"
      ]
     },
     "metadata": {},
     "output_type": "display_data"
    },
    {
     "data": {
      "text/plain": [
       "4-element Array{Float64,1}:\n",
       " 1.4103718093432098\n",
       " 1.3416150831599198\n",
       " 3.240921530636138\n",
       " 4.709616839139009"
      ]
     },
     "metadata": {},
     "output_type": "display_data"
    },
    {
     "data": {
      "text/plain": [
       "4-element Array{Float64,1}:\n",
       " 1.6098444859553775\n",
       " 1.5313633111437097\n",
       " 3.437254649103882\n",
       " 3.692534516478941"
      ]
     },
     "metadata": {},
     "output_type": "display_data"
    },
    {
     "data": {
      "text/plain": [
       "4-element Array{Float64,1}:\n",
       " 1.7689387819077886\n",
       " 1.6827016360311449\n",
       " 3.0433425907928235\n",
       " 3.6228495952282693"
      ]
     },
     "metadata": {},
     "output_type": "display_data"
    },
    {
     "data": {
      "text/plain": [
       "4-element Array{Float64,1}:\n",
       " 1.4505327536151467\n",
       " 1.3798181500620206\n",
       " 3.137283815121063\n",
       " 3.5970784862979803"
      ]
     },
     "metadata": {},
     "output_type": "display_data"
    }
   ],
   "source": [
    "# We now use a relative tolerance for the pseudoinverse\n",
    "mSyn = [1;2;3;4]\n",
    "for i = 1:5\n",
    "    d = G * mSyn + randn(size(G, 1)) * 0.5\n",
    "    mEst = pinv(G, rtol=0.1) * d\n",
    "    display(mEst)\n",
    "end"
   ]
  },
  {
   "cell_type": "code",
   "execution_count": 12,
   "metadata": {},
   "outputs": [
    {
     "data": {
      "text/plain": [
       "4-element Array{Float64,1}:\n",
       " 2.051249219725039\n",
       " 1.4999999999999998\n",
       " 0.5000000000000001\n",
       " 0.048750780274960666"
      ]
     },
     "metadata": {},
     "output_type": "display_data"
    }
   ],
   "source": [
    "G = [1 1 0 0;1.1 1 0 0;0 0 1 0.5; 0 0 0.5 1]\n",
    "s = svd(G)\n",
    "display(s.S)"
   ]
  },
  {
   "cell_type": "code",
   "execution_count": 21,
   "metadata": {},
   "outputs": [
    {
     "data": {
      "text/plain": [
       "3"
      ]
     },
     "execution_count": 21,
     "metadata": {},
     "output_type": "execute_result"
    }
   ],
   "source": [
    "rank(G, rtol=0.1)"
   ]
  },
  {
   "cell_type": "code",
   "execution_count": null,
   "metadata": {},
   "outputs": [],
   "source": []
  }
 ],
 "metadata": {
  "kernelspec": {
   "display_name": "Julia 1.4.1",
   "language": "julia",
   "name": "julia-1.4"
  },
  "language_info": {
   "file_extension": ".jl",
   "mimetype": "application/julia",
   "name": "julia",
   "version": "1.4.1"
  },
  "varInspector": {
   "cols": {
    "lenName": 16,
    "lenType": 16,
    "lenVar": 40
   },
   "kernels_config": {
    "python": {
     "delete_cmd_postfix": "",
     "delete_cmd_prefix": "del ",
     "library": "var_list.py",
     "varRefreshCmd": "print(var_dic_list())"
    },
    "r": {
     "delete_cmd_postfix": ") ",
     "delete_cmd_prefix": "rm(",
     "library": "var_list.r",
     "varRefreshCmd": "cat(var_dic_list()) "
    }
   },
   "types_to_exclude": [
    "module",
    "function",
    "builtin_function_or_method",
    "instance",
    "_Feature"
   ],
   "window_display": false
  }
 },
 "nbformat": 4,
 "nbformat_minor": 2
}

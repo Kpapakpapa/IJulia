{
 "cells": [
  {
   "cell_type": "markdown",
   "metadata": {},
   "source": [
    "## Small singular values\n",
    "\n",
    "When using the generalized (svd) inverse by\n",
    "$${\\bf m} = {\\bf G}^\\dagger {\\bf d} = {\\bf V}{\\bf S}^{-1}{\\bf U}^T {\\bf d} = \\sum_i \\frac{U_i^T {\\bf d}}{s_i} V_i $$\n",
    "\n",
    "Small (compared to the others) singular values result in a large factor and thus huge impact of single data. Noise can be amplified."
   ]
  },
  {
   "cell_type": "code",
   "execution_count": 27,
   "metadata": {},
   "outputs": [],
   "source": [
    "using LinearAlgebra"
   ]
  },
  {
   "cell_type": "markdown",
   "metadata": {},
   "source": [
    "We take one of the ray path matrices from the test notebook."
   ]
  },
  {
   "cell_type": "code",
   "execution_count": 28,
   "metadata": {},
   "outputs": [
    {
     "data": {
      "text/plain": [
       "4×4 Array{Float64,2}:\n",
       " 1.0      1.0      0.0      0.0\n",
       " 1.03078  1.03078  0.0      0.0\n",
       " 1.11803  0.0      0.0      1.11803\n",
       " 0.0      1.11803  1.11803  0.0"
      ]
     },
     "metadata": {},
     "output_type": "display_data"
    },
    {
     "data": {
      "text/plain": [
       "4-element Array{Float64,1}:\n",
       " 2.3925347798301373\n",
       " 1.5811388300841893\n",
       " 0.9490928970881395\n",
       " 8.746388511155516e-17"
      ]
     },
     "metadata": {},
     "output_type": "display_data"
    }
   ],
   "source": [
    "l1 = sqrt(1+0.25^2)\n",
    "l2 = sqrt(1^2+0.5^2)\n",
    "G = [1.0 1.0 0 0;l1 l1 0 0;l2 0 0 l2;0 l2 l2 0]\n",
    "display(G)\n",
    "s = svd(G)\n",
    "display(s.S)"
   ]
  },
  {
   "cell_type": "markdown",
   "metadata": {},
   "source": [
    "The problem is the similarity of the first two rays. We just make the ray a little longer.  "
   ]
  },
  {
   "cell_type": "code",
   "execution_count": 30,
   "metadata": {},
   "outputs": [
    {
     "data": {
      "text/plain": [
       "4-element Array{Float64,1}:\n",
       " 2.4208043376897916\n",
       " 1.5813162422242428\n",
       " 0.9545074617276181\n",
       " 0.023681347224980425"
      ]
     },
     "metadata": {},
     "output_type": "display_data"
    },
    {
     "data": {
      "text/plain": [
       "4"
      ]
     },
     "metadata": {},
     "output_type": "display_data"
    }
   ],
   "source": [
    "G[2, 1] = 1.1\n",
    "s = svd(G)\n",
    "display(s.S)\n",
    "display(rank(G))"
   ]
  },
  {
   "cell_type": "markdown",
   "metadata": {},
   "source": [
    "As a result, the last singular values becomes small."
   ]
  },
  {
   "cell_type": "code",
   "execution_count": 40,
   "metadata": {},
   "outputs": [
    {
     "data": {
      "text/plain": [
       "4-element Array{Float64,1}:\n",
       " -14.423388933063848\n",
       "  18.0825033704239\n",
       " -13.097228537847506\n",
       "  19.334429520397386"
      ]
     },
     "metadata": {},
     "output_type": "display_data"
    },
    {
     "data": {
      "text/plain": [
       "4-element Array{Float64,1}:\n",
       " 0.7515499339622025\n",
       " 2.450948518879997\n",
       " 2.848895770828541\n",
       " 4.653634131672028"
      ]
     },
     "metadata": {},
     "output_type": "display_data"
    },
    {
     "data": {
      "text/plain": [
       "4-element Array{Float64,1}:\n",
       " 0.8670950375759574\n",
       " 1.7651172695796689\n",
       " 3.3455597307560154\n",
       " 4.023431191911428"
      ]
     },
     "metadata": {},
     "output_type": "display_data"
    },
    {
     "data": {
      "text/plain": [
       "4-element Array{Float64,1}:\n",
       " -3.4993488059162416\n",
       "  6.547415690285433\n",
       " -1.7805848008840002\n",
       "  8.435243398220798"
      ]
     },
     "metadata": {},
     "output_type": "display_data"
    },
    {
     "data": {
      "text/plain": [
       "4-element Array{Float64,1}:\n",
       "  15.236124079529219\n",
       " -12.67167429215322\n",
       "  17.755617479577225\n",
       " -10.157222189981603"
      ]
     },
     "metadata": {},
     "output_type": "display_data"
    }
   ],
   "source": [
    "mSyn = [1;2;3;4]\n",
    "# display(G*mSyn)\n",
    "for i = 1:5\n",
    "    d = G * mSyn + randn(size(G, 1)) * 0.3\n",
    "    mEst = pinv(G) * d\n",
    "    display(mEst)\n",
    "end\n"
   ]
  },
  {
   "cell_type": "code",
   "execution_count": 45,
   "metadata": {},
   "outputs": [
    {
     "data": {
      "text/plain": [
       "4-element Array{Float64,1}:\n",
       " 1.6259342020923855\n",
       " 1.7600430236694775\n",
       " 3.2020832790858313\n",
       " 3.1187630229652594"
      ]
     },
     "metadata": {},
     "output_type": "display_data"
    },
    {
     "data": {
      "text/plain": [
       "4-element Array{Float64,1}:\n",
       " 1.4661264115359234\n",
       " 1.422224268396313\n",
       " 3.3040104189265587\n",
       " 3.4140769433666676"
      ]
     },
     "metadata": {},
     "output_type": "display_data"
    },
    {
     "data": {
      "text/plain": [
       "4-element Array{Float64,1}:\n",
       " 1.4105410293927139\n",
       " 1.7046037741644324\n",
       " 3.521275398480632\n",
       " 3.291243756463448"
      ]
     },
     "metadata": {},
     "output_type": "display_data"
    },
    {
     "data": {
      "text/plain": [
       "4-element Array{Float64,1}:\n",
       " 1.5116722593637277\n",
       " 1.565555870667997\n",
       " 3.326219488928289\n",
       " 3.334287848655427"
      ]
     },
     "metadata": {},
     "output_type": "display_data"
    },
    {
     "data": {
      "text/plain": [
       "4-element Array{Float64,1}:\n",
       " 1.349746507846671\n",
       " 1.3397819105170212\n",
       " 3.462160383345807\n",
       " 3.5467622632550615"
      ]
     },
     "metadata": {},
     "output_type": "display_data"
    }
   ],
   "source": [
    "# We now use a relative tolerance for the pseudoinverse\n",
    "mSyn = [1;2;3;4]\n",
    "for i = 1:5\n",
    "    d = G * mSyn + randn(size(G, 1)) * 0.3\n",
    "    mEst = pinv(G, rtol=0.1) * d\n",
    "    display(mEst)\n",
    "end"
   ]
  },
  {
   "cell_type": "code",
   "execution_count": 12,
   "metadata": {},
   "outputs": [
    {
     "data": {
      "text/plain": [
       "4-element Array{Float64,1}:\n",
       " 2.051249219725039\n",
       " 1.4999999999999998\n",
       " 0.5000000000000001\n",
       " 0.048750780274960666"
      ]
     },
     "metadata": {},
     "output_type": "display_data"
    }
   ],
   "source": [
    "G = [1 1 0 0;1.1 1 0 0;0 0 1 0.5; 0 0 0.5 1]\n",
    "s = svd(G)\n",
    "display(s.S)"
   ]
  },
  {
   "cell_type": "code",
   "execution_count": 48,
   "metadata": {},
   "outputs": [
    {
     "data": {
      "text/plain": [
       "4"
      ]
     },
     "execution_count": 48,
     "metadata": {},
     "output_type": "execute_result"
    }
   ],
   "source": [
    "rank(G, rtol=0.001)"
   ]
  },
  {
   "cell_type": "code",
   "execution_count": null,
   "metadata": {},
   "outputs": [],
   "source": []
  }
 ],
 "metadata": {
  "kernelspec": {
   "display_name": "Julia 1.4.1",
   "language": "julia",
   "name": "julia-1.4"
  },
  "language_info": {
   "file_extension": ".jl",
   "mimetype": "application/julia",
   "name": "julia",
   "version": "1.4.1"
  },
  "varInspector": {
   "cols": {
    "lenName": 16,
    "lenType": 16,
    "lenVar": 40
   },
   "kernels_config": {
    "python": {
     "delete_cmd_postfix": "",
     "delete_cmd_prefix": "del ",
     "library": "var_list.py",
     "varRefreshCmd": "print(var_dic_list())"
    },
    "r": {
     "delete_cmd_postfix": ") ",
     "delete_cmd_prefix": "rm(",
     "library": "var_list.r",
     "varRefreshCmd": "cat(var_dic_list()) "
    }
   },
   "types_to_exclude": [
    "module",
    "function",
    "builtin_function_or_method",
    "instance",
    "_Feature"
   ],
   "window_display": false
  }
 },
 "nbformat": 4,
 "nbformat_minor": 2
}

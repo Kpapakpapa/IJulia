{
 "cells": [
  {
   "cell_type": "code",
   "execution_count": 74,
   "metadata": {},
   "outputs": [],
   "source": [
    "import numpy as np\n",
    "import pygimli as pg"
   ]
  },
  {
   "cell_type": "code",
   "execution_count": 75,
   "metadata": {},
   "outputs": [
    {
     "name": "stdout",
     "output_type": "stream",
     "text": [
      "[ 0.  1.  2.  3.  4.  5.  6.  7.  8.  9. 10.]\n",
      "[ 0.  1.  2.  3.  4.  5.  6.  7.  8.  9. 10. 11.]\n",
      "Mesh: Nodes: 132 Cells: 110 Boundaries: 241 secNodes: 1205\n"
     ]
    },
    {
     "data": {
      "image/png": "[encoded data removed]",
      "text/plain": [
       "<Figure size 432x288 with 1 Axes>"
      ]
     },
     "metadata": {
      "needs_background": "light"
     },
     "output_type": "display_data"
    }
   ],
   "source": [
    "x = np.arange(10.1)  # 0 1 .. 10\n",
    "y = np.arange(11.1)  # 0 1 .. 11\n",
    "print(x)\n",
    "print(y)\n",
    "grid = pg.createGrid(x, y)\n",
    "grid.createSecondaryNodes(5)  # for accuracy\n",
    "print(grid)\n",
    "pg.show(grid);"
   ]
  },
  {
   "cell_type": "code",
   "execution_count": 76,
   "metadata": {},
   "outputs": [
    {
     "name": "stdout",
     "output_type": "stream",
     "text": [
      "Data: Sensors: 20 data: 100, nonzero entries: ['g', 's']\n"
     ]
    },
    {
     "data": {
      "text/plain": [
       "1"
      ]
     },
     "execution_count": 76,
     "metadata": {},
     "output_type": "execute_result"
    }
   ],
   "source": [
    "x1 = 0  # borehole 1\n",
    "x2 = 10  # borehole 2\n",
    "sy = np.arange(1, 10.1)  # sensor positions\n",
    "data = pg.DataContainer()\n",
    "data.registerSensorIndex(\"s\")  # Integer/Index\n",
    "data.registerSensorIndex(\"g\")  # Integer/Index\n",
    "[data.createSensor([x1, yi]) for yi in sy] # left\n",
    "[data.createSensor([x2, yi]) for yi in sy] # right\n",
    "one = np.ones_like(sy, dtype=int) # 1 1 1 \n",
    "up = np.arange(len(sy)) # 1 2 .. 10\n",
    "shot = []\n",
    "geop = []\n",
    "for i in range(len(sy)):\n",
    "    shot.extend(one * i)\n",
    "    geop.extend(up+len(sy))\n",
    "\n",
    "data.resize(len(shot))\n",
    "data.set(\"s\", np.array(shot))\n",
    "data.set(\"g\", np.array(geop))\n",
    "print(data)\n",
    "data.markValid(data(\"g\") >= 0)\n",
    "data.save(\"data.shm\")"
   ]
  },
  {
   "cell_type": "code",
   "execution_count": 77,
   "metadata": {},
   "outputs": [
    {
     "name": "stderr",
     "output_type": "stream",
     "text": [
      "25/05/20 - 06:33:55 - pyGIMLi - \u001b[0;32;49mINFO\u001b[0m - Creating refined mesh (secnodes: 4) to solve forward task.\n",
      "25/05/20 - 06:33:55 - pyGIMLi - \u001b[0;33;49mWARNING\u001b[0m - Mesh already contains secondary nodes. Not adding any more.\n"
     ]
    },
    {
     "data": {
      "image/png": "[encoded data removed]",
      "text/plain": [
       "<Figure size 432x288 with 2 Axes>"
      ]
     },
     "metadata": {
      "needs_background": "light"
     },
     "output_type": "display_data"
    }
   ],
   "source": [
    "# with the manager\n",
    "tt = pg.physics.TravelTimeManager()\n",
    "data = tt.simulate(mesh=grid, scheme=data, slowness=slowness,\n",
    "                   secNodes=4) # , noiseLevel=0.001, noiseAbs=1e-5)\n",
    "data.save(\"data.dat\", \"s g t\")\n",
    "pg.viewer.mpl.showDataContainerAsMatrix(data, \"s\", \"g\", \"t\");"
   ]
  },
  {
   "cell_type": "code",
   "execution_count": 81,
   "metadata": {
    "collapsed": true
   },
   "outputs": [
    {
     "name": "stderr",
     "output_type": "stream",
     "text": [
      "25/05/20 - 06:34:37 - pyGIMLi - \u001b[0;32;49mINFO\u001b[0m - Found 1 regions.\n",
      "25/05/20 - 06:34:38 - pyGIMLi - \u001b[0;31;49mERROR\u001b[0m - <class 'pygimli.physics.traveltime.TravelTimeManager.TravelTimeManager'>._ensureError(C:\\Users\\halbm\\AppData\\Roaming\\Python\\Python37\\site-packages\\pygimli-1.1.0+2.g6890f54c-py3.7.egg\\pygimli\\frameworks\\methodManager.py:339)\n",
      "DataContainer has no \"err\" values. Fallback set to 3%\n",
      "25/05/20 - 06:34:38 - pyGIMLi - \u001b[0;32;49mINFO\u001b[0m - Creating forward mesh from region infos.\n",
      "25/05/20 - 06:34:38 - pyGIMLi - \u001b[0;32;49mINFO\u001b[0m - Creating refined mesh (secnodes: 2) to solve forward task.\n",
      "25/05/20 - 06:34:38 - pyGIMLi - \u001b[0;33;49mWARNING\u001b[0m - Mesh already contains secondary nodes. Not adding any more.\n",
      "25/05/20 - 06:34:38 - pyGIMLi - \u001b[0;32;49mINFO\u001b[0m - Startmodel set from given array. [[1.]\n",
      " [1.]\n",
      " [1.]\n",
      " [1.]\n",
      " [1.]\n",
      " [1.]\n",
      " [1.]\n",
      " [1.]\n",
      " [1.]\n",
      " [1.]\n",
      " [1.]\n",
      " [1.]\n",
      " [1.]\n",
      " [1.]\n",
      " [1.]\n",
      " [1.]\n",
      " [1.]\n",
      " [1.]\n",
      " [1.]\n",
      " [1.]\n",
      " [1.]\n",
      " [1.]\n",
      " [1.]\n",
      " [1.]\n",
      " [1.]\n",
      " [1.]\n",
      " [1.]\n",
      " [1.]\n",
      " [1.]\n",
      " [1.]\n",
      " [1.]\n",
      " [1.]\n",
      " [1.]\n",
      " [1.]\n",
      " [1.]\n",
      " [1.]\n",
      " [1.]\n",
      " [1.]\n",
      " [1.]\n",
      " [1.]\n",
      " [1.]\n",
      " [1.]\n",
      " [1.]\n",
      " [1.]\n",
      " [1.]\n",
      " [1.]\n",
      " [1.]\n",
      " [1.]\n",
      " [1.]\n",
      " [1.]\n",
      " [1.]\n",
      " [1.]\n",
      " [1.]\n",
      " [1.]\n",
      " [1.]\n",
      " [1.]\n",
      " [1.]\n",
      " [1.]\n",
      " [1.]\n",
      " [1.]\n",
      " [1.]\n",
      " [1.]\n",
      " [1.]\n",
      " [1.]\n",
      " [1.]\n",
      " [1.]\n",
      " [1.]\n",
      " [1.]\n",
      " [1.]\n",
      " [1.]\n",
      " [1.]\n",
      " [1.]\n",
      " [1.]\n",
      " [1.]\n",
      " [1.]\n",
      " [1.]\n",
      " [1.]\n",
      " [1.]\n",
      " [1.]\n",
      " [1.]\n",
      " [1.]\n",
      " [1.]\n",
      " [1.]\n",
      " [1.]\n",
      " [1.]\n",
      " [1.]\n",
      " [1.]\n",
      " [1.]\n",
      " [1.]\n",
      " [1.]\n",
      " [1.]\n",
      " [1.]\n",
      " [1.]\n",
      " [1.]\n",
      " [1.]\n",
      " [1.]\n",
      " [1.]\n",
      " [1.]\n",
      " [1.]\n",
      " [1.]\n",
      " [1.]\n",
      " [1.]\n",
      " [1.]\n",
      " [1.]\n",
      " [1.]\n",
      " [1.]\n",
      " [1.]\n",
      " [1.]\n",
      " [1.]\n",
      " [1.]]\n"
     ]
    }
   ],
   "source": [
    "tt.invert(data, mesh=grid, maxIter=1, startModel=slowness);"
   ]
  },
  {
   "cell_type": "code",
   "execution_count": 82,
   "metadata": {},
   "outputs": [
    {
     "data": {
      "image/png": "[encoded data removed]",
      "text/plain": [
       "<Figure size 432x288 with 1 Axes>"
      ]
     },
     "metadata": {
      "needs_background": "light"
     },
     "output_type": "display_data"
    }
   ],
   "source": [
    "J = tt.fop.jacobian()\n",
    "pg.show(J)\n",
    "J.save(\"jacobian.ijv\")"
   ]
  },
  {
   "cell_type": "code",
   "execution_count": null,
   "metadata": {},
   "outputs": [],
   "source": []
  }
 ],
 "metadata": {
  "kernelspec": {
   "display_name": "Python 3",
   "language": "python",
   "name": "python3"
  },
  "language_info": {
   "codemirror_mode": {
    "name": "ipython",
    "version": 3
   },
   "file_extension": ".py",
   "mimetype": "text/x-python",
   "name": "python",
   "nbconvert_exporter": "python",
   "pygments_lexer": "ipython3",
   "version": "3.7.3"
  },
  "varInspector": {
   "cols": {
    "lenName": 16,
    "lenType": 16,
    "lenVar": 40
   },
   "kernels_config": {
    "python": {
     "delete_cmd_postfix": "",
     "delete_cmd_prefix": "del ",
     "library": "var_list.py",
     "varRefreshCmd": "print(var_dic_list())"
    },
    "r": {
     "delete_cmd_postfix": ") ",
     "delete_cmd_prefix": "rm(",
     "library": "var_list.r",
     "varRefreshCmd": "cat(var_dic_list()) "
    }
   },
   "position": {
    "height": "313.85px",
    "left": "590px",
    "right": "20px",
    "top": "120px",
    "width": "350px"
   },
   "types_to_exclude": [
    "module",
    "function",
    "builtin_function_or_method",
    "instance",
    "_Feature"
   ],
   "window_display": false
  }
 },
 "nbformat": 4,
 "nbformat_minor": 2
}
